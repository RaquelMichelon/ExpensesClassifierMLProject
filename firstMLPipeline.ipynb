{
  "nbformat": 4,
  "nbformat_minor": 0,
  "metadata": {
    "colab": {
      "name": "firstMLPipeline.ipynb",
      "provenance": [],
      "collapsed_sections": [],
      "authorship_tag": "ABX9TyNMI89ufgGK2eMZGpmsd6O+",
      "include_colab_link": true
    },
    "kernelspec": {
      "name": "python3",
      "display_name": "Python 3"
    },
    "language_info": {
      "name": "python"
    }
  },
  "cells": [
    {
      "cell_type": "markdown",
      "metadata": {
        "id": "view-in-github",
        "colab_type": "text"
      },
      "source": [
        "<a href=\"https://colab.research.google.com/github/RaquelMichelon/ExpensesClassifierMLProject/blob/main/firstMLPipeline.ipynb\" target=\"_parent\"><img src=\"https://colab.research.google.com/assets/colab-badge.svg\" alt=\"Open In Colab\"/></a>"
      ]
    },
    {
      "cell_type": "markdown",
      "source": [
        "# Prototype of the Project **Classification Model**\n",
        "\n",
        "## #F00 - First ML pipeline\n",
        "\n",
        "The data came from [Kaggle](Paste the link here)"
      ],
      "metadata": {
        "id": "I9Wm3HqMbYed"
      }
    },
    {
      "cell_type": "markdown",
      "source": [
        "### **Task 1 DATA PREPARATION - Knowing and Cleaning Data**"
      ],
      "metadata": {
        "id": "H-1s_b4QdLfa"
      }
    },
    {
      "cell_type": "code",
      "execution_count": null,
      "metadata": {
        "id": "nzXBjAiKanVm"
      },
      "outputs": [],
      "source": [
        "#importing required packages\n",
        "import pandas as pd\n",
        "import numpy as np"
      ]
    },
    {
      "cell_type": "code",
      "source": [
        "# load the bank data from drive\n",
        "from google.colab import drive\n",
        "drive.mount('/content/drive')"
      ],
      "metadata": {
        "colab": {
          "base_uri": "https://localhost:8080/"
        },
        "id": "Zgm5SAn9XTgQ",
        "outputId": "907d7a5c-0a01-4296-8188-00cefdba7d96"
      },
      "execution_count": null,
      "outputs": [
        {
          "output_type": "stream",
          "name": "stdout",
          "text": [
            "Drive already mounted at /content/drive; to attempt to forcibly remount, call drive.mount(\"/content/drive\", force_remount=True).\n"
          ]
        }
      ]
    },
    {
      "cell_type": "code",
      "source": [
        "df_bank = pd.read_csv('/content/drive/MyDrive/Colab Notebooks/Data/bank.csv')"
      ],
      "metadata": {
        "id": "T6fP_4TdZsl3"
      },
      "execution_count": null,
      "outputs": []
    },
    {
      "cell_type": "code",
      "source": [
        "# read the bank data directly\n",
        "#df_bank = pd.read_csv('bank.csv')"
      ],
      "metadata": {
        "id": "2zh4BfUxdhnb"
      },
      "execution_count": null,
      "outputs": []
    },
    {
      "cell_type": "code",
      "source": [
        "# presenting first 5 rows\n",
        "df_bank.head(5)"
      ],
      "metadata": {
        "colab": {
          "base_uri": "https://localhost:8080/",
          "height": 206
        },
        "id": "ioIpbVPtdlUT",
        "outputId": "411ca666-b5a1-4f94-a8dc-65eb1ad1a8a8"
      },
      "execution_count": null,
      "outputs": [
        {
          "output_type": "execute_result",
          "data": {
            "text/plain": [
              "      Account No        DATE               TRANSACTION DETAILS  CHQ.NO.  \\\n",
              "0  409000611074'  29-jun.-17  TRF FROM  Indiaforensic SERVICES      NaN   \n",
              "1  409000611074'   5-jul.-17  TRF FROM  Indiaforensic SERVICES      NaN   \n",
              "2  409000611074'  18-jul.-17        FDRL/INTERNAL FUND TRANSFE      NaN   \n",
              "3  409000611074'   1-ago.-17   TRF FRM  Indiaforensic SERVICES      NaN   \n",
              "4  409000611074'  16-ago.-17        FDRL/INTERNAL FUND TRANSFE      NaN   \n",
              "\n",
              "   VALUE DATE  WITHDRAWAL AMT      DEPOSIT AMT       BALANCE AMT  .  \n",
              "0  29-jun.-17              NaN    1.000.000,00     1.000.000,00   .  \n",
              "1   5-jul.-17              NaN    1.000.000,00     2.000.000,00   .  \n",
              "2  18-jul.-17              NaN      500.000,00     2.500.000,00   .  \n",
              "3   1-ago.-17              NaN    3.000.000,00     5.500.000,00   .  \n",
              "4  16-ago.-17              NaN      500.000,00     6.000.000,00   .  "
            ],
            "text/html": [
              "\n",
              "  <div id=\"df-82b0362f-c165-4d09-9096-26d8c429f8bf\">\n",
              "    <div class=\"colab-df-container\">\n",
              "      <div>\n",
              "<style scoped>\n",
              "    .dataframe tbody tr th:only-of-type {\n",
              "        vertical-align: middle;\n",
              "    }\n",
              "\n",
              "    .dataframe tbody tr th {\n",
              "        vertical-align: top;\n",
              "    }\n",
              "\n",
              "    .dataframe thead th {\n",
              "        text-align: right;\n",
              "    }\n",
              "</style>\n",
              "<table border=\"1\" class=\"dataframe\">\n",
              "  <thead>\n",
              "    <tr style=\"text-align: right;\">\n",
              "      <th></th>\n",
              "      <th>Account No</th>\n",
              "      <th>DATE</th>\n",
              "      <th>TRANSACTION DETAILS</th>\n",
              "      <th>CHQ.NO.</th>\n",
              "      <th>VALUE DATE</th>\n",
              "      <th>WITHDRAWAL AMT</th>\n",
              "      <th>DEPOSIT AMT</th>\n",
              "      <th>BALANCE AMT</th>\n",
              "      <th>.</th>\n",
              "    </tr>\n",
              "  </thead>\n",
              "  <tbody>\n",
              "    <tr>\n",
              "      <th>0</th>\n",
              "      <td>409000611074'</td>\n",
              "      <td>29-jun.-17</td>\n",
              "      <td>TRF FROM  Indiaforensic SERVICES</td>\n",
              "      <td>NaN</td>\n",
              "      <td>29-jun.-17</td>\n",
              "      <td>NaN</td>\n",
              "      <td>1.000.000,00</td>\n",
              "      <td>1.000.000,00</td>\n",
              "      <td>.</td>\n",
              "    </tr>\n",
              "    <tr>\n",
              "      <th>1</th>\n",
              "      <td>409000611074'</td>\n",
              "      <td>5-jul.-17</td>\n",
              "      <td>TRF FROM  Indiaforensic SERVICES</td>\n",
              "      <td>NaN</td>\n",
              "      <td>5-jul.-17</td>\n",
              "      <td>NaN</td>\n",
              "      <td>1.000.000,00</td>\n",
              "      <td>2.000.000,00</td>\n",
              "      <td>.</td>\n",
              "    </tr>\n",
              "    <tr>\n",
              "      <th>2</th>\n",
              "      <td>409000611074'</td>\n",
              "      <td>18-jul.-17</td>\n",
              "      <td>FDRL/INTERNAL FUND TRANSFE</td>\n",
              "      <td>NaN</td>\n",
              "      <td>18-jul.-17</td>\n",
              "      <td>NaN</td>\n",
              "      <td>500.000,00</td>\n",
              "      <td>2.500.000,00</td>\n",
              "      <td>.</td>\n",
              "    </tr>\n",
              "    <tr>\n",
              "      <th>3</th>\n",
              "      <td>409000611074'</td>\n",
              "      <td>1-ago.-17</td>\n",
              "      <td>TRF FRM  Indiaforensic SERVICES</td>\n",
              "      <td>NaN</td>\n",
              "      <td>1-ago.-17</td>\n",
              "      <td>NaN</td>\n",
              "      <td>3.000.000,00</td>\n",
              "      <td>5.500.000,00</td>\n",
              "      <td>.</td>\n",
              "    </tr>\n",
              "    <tr>\n",
              "      <th>4</th>\n",
              "      <td>409000611074'</td>\n",
              "      <td>16-ago.-17</td>\n",
              "      <td>FDRL/INTERNAL FUND TRANSFE</td>\n",
              "      <td>NaN</td>\n",
              "      <td>16-ago.-17</td>\n",
              "      <td>NaN</td>\n",
              "      <td>500.000,00</td>\n",
              "      <td>6.000.000,00</td>\n",
              "      <td>.</td>\n",
              "    </tr>\n",
              "  </tbody>\n",
              "</table>\n",
              "</div>\n",
              "      <button class=\"colab-df-convert\" onclick=\"convertToInteractive('df-82b0362f-c165-4d09-9096-26d8c429f8bf')\"\n",
              "              title=\"Convert this dataframe to an interactive table.\"\n",
              "              style=\"display:none;\">\n",
              "        \n",
              "  <svg xmlns=\"http://www.w3.org/2000/svg\" height=\"24px\"viewBox=\"0 0 24 24\"\n",
              "       width=\"24px\">\n",
              "    <path d=\"M0 0h24v24H0V0z\" fill=\"none\"/>\n",
              "    <path d=\"M18.56 5.44l.94 2.06.94-2.06 2.06-.94-2.06-.94-.94-2.06-.94 2.06-2.06.94zm-11 1L8.5 8.5l.94-2.06 2.06-.94-2.06-.94L8.5 2.5l-.94 2.06-2.06.94zm10 10l.94 2.06.94-2.06 2.06-.94-2.06-.94-.94-2.06-.94 2.06-2.06.94z\"/><path d=\"M17.41 7.96l-1.37-1.37c-.4-.4-.92-.59-1.43-.59-.52 0-1.04.2-1.43.59L10.3 9.45l-7.72 7.72c-.78.78-.78 2.05 0 2.83L4 21.41c.39.39.9.59 1.41.59.51 0 1.02-.2 1.41-.59l7.78-7.78 2.81-2.81c.8-.78.8-2.07 0-2.86zM5.41 20L4 18.59l7.72-7.72 1.47 1.35L5.41 20z\"/>\n",
              "  </svg>\n",
              "      </button>\n",
              "      \n",
              "  <style>\n",
              "    .colab-df-container {\n",
              "      display:flex;\n",
              "      flex-wrap:wrap;\n",
              "      gap: 12px;\n",
              "    }\n",
              "\n",
              "    .colab-df-convert {\n",
              "      background-color: #E8F0FE;\n",
              "      border: none;\n",
              "      border-radius: 50%;\n",
              "      cursor: pointer;\n",
              "      display: none;\n",
              "      fill: #1967D2;\n",
              "      height: 32px;\n",
              "      padding: 0 0 0 0;\n",
              "      width: 32px;\n",
              "    }\n",
              "\n",
              "    .colab-df-convert:hover {\n",
              "      background-color: #E2EBFA;\n",
              "      box-shadow: 0px 1px 2px rgba(60, 64, 67, 0.3), 0px 1px 3px 1px rgba(60, 64, 67, 0.15);\n",
              "      fill: #174EA6;\n",
              "    }\n",
              "\n",
              "    [theme=dark] .colab-df-convert {\n",
              "      background-color: #3B4455;\n",
              "      fill: #D2E3FC;\n",
              "    }\n",
              "\n",
              "    [theme=dark] .colab-df-convert:hover {\n",
              "      background-color: #434B5C;\n",
              "      box-shadow: 0px 1px 3px 1px rgba(0, 0, 0, 0.15);\n",
              "      filter: drop-shadow(0px 1px 2px rgba(0, 0, 0, 0.3));\n",
              "      fill: #FFFFFF;\n",
              "    }\n",
              "  </style>\n",
              "\n",
              "      <script>\n",
              "        const buttonEl =\n",
              "          document.querySelector('#df-82b0362f-c165-4d09-9096-26d8c429f8bf button.colab-df-convert');\n",
              "        buttonEl.style.display =\n",
              "          google.colab.kernel.accessAllowed ? 'block' : 'none';\n",
              "\n",
              "        async function convertToInteractive(key) {\n",
              "          const element = document.querySelector('#df-82b0362f-c165-4d09-9096-26d8c429f8bf');\n",
              "          const dataTable =\n",
              "            await google.colab.kernel.invokeFunction('convertToInteractive',\n",
              "                                                     [key], {});\n",
              "          if (!dataTable) return;\n",
              "\n",
              "          const docLinkHtml = 'Like what you see? Visit the ' +\n",
              "            '<a target=\"_blank\" href=https://colab.research.google.com/notebooks/data_table.ipynb>data table notebook</a>'\n",
              "            + ' to learn more about interactive tables.';\n",
              "          element.innerHTML = '';\n",
              "          dataTable['output_type'] = 'display_data';\n",
              "          await google.colab.output.renderOutput(dataTable, element);\n",
              "          const docLink = document.createElement('div');\n",
              "          docLink.innerHTML = docLinkHtml;\n",
              "          element.appendChild(docLink);\n",
              "        }\n",
              "      </script>\n",
              "    </div>\n",
              "  </div>\n",
              "  "
            ]
          },
          "metadata": {},
          "execution_count": 12
        }
      ]
    },
    {
      "cell_type": "code",
      "source": [
        "# presenting last 5 rows\n",
        "df_bank.tail(5)"
      ],
      "metadata": {
        "colab": {
          "base_uri": "https://localhost:8080/",
          "height": 206
        },
        "id": "_yI_yQncdvQZ",
        "outputId": "4c3f1ea1-fe43-4656-c3be-3c113a69ff82"
      },
      "execution_count": null,
      "outputs": [
        {
          "output_type": "execute_result",
          "data": {
            "text/plain": [
              "           Account No       DATE               TRANSACTION DETAILS  CHQ.NO.  \\\n",
              "116196  409000362497'  5-mar.-19  TRF TO 1196428  Indiaforensic SE      NaN   \n",
              "116197  409000362497'  5-mar.-19        FDRL/INTERNAL FUND TRANSFE      NaN   \n",
              "116198  409000362497'  5-mar.-19        FDRL/INTERNAL FUND TRANSFE      NaN   \n",
              "116199  409000362497'  5-mar.-19                 IMPS 05-03-20194C      NaN   \n",
              "116200  409000362497'  5-mar.-19         Sweep Trf To: 40900036427      NaN   \n",
              "\n",
              "       VALUE DATE  WITHDRAWAL AMT    DEPOSIT AMT            BALANCE AMT  .  \n",
              "116196  5-mar.-19      117.934,30             NaN    -1.901.902.092,61   .  \n",
              "116197  5-mar.-19              NaN    300.000,00     -1.901.602.092,61   .  \n",
              "116198  5-mar.-19              NaN    300.000,00     -1.901.302.092,61   .  \n",
              "116199  5-mar.-19      109.868,65             NaN    -1.901.411.961,26   .  \n",
              "116200  5-mar.-19        5.000,00             NaN    -1.901.416.961,26   .  "
            ],
            "text/html": [
              "\n",
              "  <div id=\"df-3373d869-f368-478f-b839-0ab52c07c24e\">\n",
              "    <div class=\"colab-df-container\">\n",
              "      <div>\n",
              "<style scoped>\n",
              "    .dataframe tbody tr th:only-of-type {\n",
              "        vertical-align: middle;\n",
              "    }\n",
              "\n",
              "    .dataframe tbody tr th {\n",
              "        vertical-align: top;\n",
              "    }\n",
              "\n",
              "    .dataframe thead th {\n",
              "        text-align: right;\n",
              "    }\n",
              "</style>\n",
              "<table border=\"1\" class=\"dataframe\">\n",
              "  <thead>\n",
              "    <tr style=\"text-align: right;\">\n",
              "      <th></th>\n",
              "      <th>Account No</th>\n",
              "      <th>DATE</th>\n",
              "      <th>TRANSACTION DETAILS</th>\n",
              "      <th>CHQ.NO.</th>\n",
              "      <th>VALUE DATE</th>\n",
              "      <th>WITHDRAWAL AMT</th>\n",
              "      <th>DEPOSIT AMT</th>\n",
              "      <th>BALANCE AMT</th>\n",
              "      <th>.</th>\n",
              "    </tr>\n",
              "  </thead>\n",
              "  <tbody>\n",
              "    <tr>\n",
              "      <th>116196</th>\n",
              "      <td>409000362497'</td>\n",
              "      <td>5-mar.-19</td>\n",
              "      <td>TRF TO 1196428  Indiaforensic SE</td>\n",
              "      <td>NaN</td>\n",
              "      <td>5-mar.-19</td>\n",
              "      <td>117.934,30</td>\n",
              "      <td>NaN</td>\n",
              "      <td>-1.901.902.092,61</td>\n",
              "      <td>.</td>\n",
              "    </tr>\n",
              "    <tr>\n",
              "      <th>116197</th>\n",
              "      <td>409000362497'</td>\n",
              "      <td>5-mar.-19</td>\n",
              "      <td>FDRL/INTERNAL FUND TRANSFE</td>\n",
              "      <td>NaN</td>\n",
              "      <td>5-mar.-19</td>\n",
              "      <td>NaN</td>\n",
              "      <td>300.000,00</td>\n",
              "      <td>-1.901.602.092,61</td>\n",
              "      <td>.</td>\n",
              "    </tr>\n",
              "    <tr>\n",
              "      <th>116198</th>\n",
              "      <td>409000362497'</td>\n",
              "      <td>5-mar.-19</td>\n",
              "      <td>FDRL/INTERNAL FUND TRANSFE</td>\n",
              "      <td>NaN</td>\n",
              "      <td>5-mar.-19</td>\n",
              "      <td>NaN</td>\n",
              "      <td>300.000,00</td>\n",
              "      <td>-1.901.302.092,61</td>\n",
              "      <td>.</td>\n",
              "    </tr>\n",
              "    <tr>\n",
              "      <th>116199</th>\n",
              "      <td>409000362497'</td>\n",
              "      <td>5-mar.-19</td>\n",
              "      <td>IMPS 05-03-20194C</td>\n",
              "      <td>NaN</td>\n",
              "      <td>5-mar.-19</td>\n",
              "      <td>109.868,65</td>\n",
              "      <td>NaN</td>\n",
              "      <td>-1.901.411.961,26</td>\n",
              "      <td>.</td>\n",
              "    </tr>\n",
              "    <tr>\n",
              "      <th>116200</th>\n",
              "      <td>409000362497'</td>\n",
              "      <td>5-mar.-19</td>\n",
              "      <td>Sweep Trf To: 40900036427</td>\n",
              "      <td>NaN</td>\n",
              "      <td>5-mar.-19</td>\n",
              "      <td>5.000,00</td>\n",
              "      <td>NaN</td>\n",
              "      <td>-1.901.416.961,26</td>\n",
              "      <td>.</td>\n",
              "    </tr>\n",
              "  </tbody>\n",
              "</table>\n",
              "</div>\n",
              "      <button class=\"colab-df-convert\" onclick=\"convertToInteractive('df-3373d869-f368-478f-b839-0ab52c07c24e')\"\n",
              "              title=\"Convert this dataframe to an interactive table.\"\n",
              "              style=\"display:none;\">\n",
              "        \n",
              "  <svg xmlns=\"http://www.w3.org/2000/svg\" height=\"24px\"viewBox=\"0 0 24 24\"\n",
              "       width=\"24px\">\n",
              "    <path d=\"M0 0h24v24H0V0z\" fill=\"none\"/>\n",
              "    <path d=\"M18.56 5.44l.94 2.06.94-2.06 2.06-.94-2.06-.94-.94-2.06-.94 2.06-2.06.94zm-11 1L8.5 8.5l.94-2.06 2.06-.94-2.06-.94L8.5 2.5l-.94 2.06-2.06.94zm10 10l.94 2.06.94-2.06 2.06-.94-2.06-.94-.94-2.06-.94 2.06-2.06.94z\"/><path d=\"M17.41 7.96l-1.37-1.37c-.4-.4-.92-.59-1.43-.59-.52 0-1.04.2-1.43.59L10.3 9.45l-7.72 7.72c-.78.78-.78 2.05 0 2.83L4 21.41c.39.39.9.59 1.41.59.51 0 1.02-.2 1.41-.59l7.78-7.78 2.81-2.81c.8-.78.8-2.07 0-2.86zM5.41 20L4 18.59l7.72-7.72 1.47 1.35L5.41 20z\"/>\n",
              "  </svg>\n",
              "      </button>\n",
              "      \n",
              "  <style>\n",
              "    .colab-df-container {\n",
              "      display:flex;\n",
              "      flex-wrap:wrap;\n",
              "      gap: 12px;\n",
              "    }\n",
              "\n",
              "    .colab-df-convert {\n",
              "      background-color: #E8F0FE;\n",
              "      border: none;\n",
              "      border-radius: 50%;\n",
              "      cursor: pointer;\n",
              "      display: none;\n",
              "      fill: #1967D2;\n",
              "      height: 32px;\n",
              "      padding: 0 0 0 0;\n",
              "      width: 32px;\n",
              "    }\n",
              "\n",
              "    .colab-df-convert:hover {\n",
              "      background-color: #E2EBFA;\n",
              "      box-shadow: 0px 1px 2px rgba(60, 64, 67, 0.3), 0px 1px 3px 1px rgba(60, 64, 67, 0.15);\n",
              "      fill: #174EA6;\n",
              "    }\n",
              "\n",
              "    [theme=dark] .colab-df-convert {\n",
              "      background-color: #3B4455;\n",
              "      fill: #D2E3FC;\n",
              "    }\n",
              "\n",
              "    [theme=dark] .colab-df-convert:hover {\n",
              "      background-color: #434B5C;\n",
              "      box-shadow: 0px 1px 3px 1px rgba(0, 0, 0, 0.15);\n",
              "      filter: drop-shadow(0px 1px 2px rgba(0, 0, 0, 0.3));\n",
              "      fill: #FFFFFF;\n",
              "    }\n",
              "  </style>\n",
              "\n",
              "      <script>\n",
              "        const buttonEl =\n",
              "          document.querySelector('#df-3373d869-f368-478f-b839-0ab52c07c24e button.colab-df-convert');\n",
              "        buttonEl.style.display =\n",
              "          google.colab.kernel.accessAllowed ? 'block' : 'none';\n",
              "\n",
              "        async function convertToInteractive(key) {\n",
              "          const element = document.querySelector('#df-3373d869-f368-478f-b839-0ab52c07c24e');\n",
              "          const dataTable =\n",
              "            await google.colab.kernel.invokeFunction('convertToInteractive',\n",
              "                                                     [key], {});\n",
              "          if (!dataTable) return;\n",
              "\n",
              "          const docLinkHtml = 'Like what you see? Visit the ' +\n",
              "            '<a target=\"_blank\" href=https://colab.research.google.com/notebooks/data_table.ipynb>data table notebook</a>'\n",
              "            + ' to learn more about interactive tables.';\n",
              "          element.innerHTML = '';\n",
              "          dataTable['output_type'] = 'display_data';\n",
              "          await google.colab.output.renderOutput(dataTable, element);\n",
              "          const docLink = document.createElement('div');\n",
              "          docLink.innerHTML = docLinkHtml;\n",
              "          element.appendChild(docLink);\n",
              "        }\n",
              "      </script>\n",
              "    </div>\n",
              "  </div>\n",
              "  "
            ]
          },
          "metadata": {},
          "execution_count": 13
        }
      ]
    },
    {
      "cell_type": "code",
      "source": [
        "# For further analysis it is necessary to study the general characteristics of the fields\n",
        "df_bank.info()"
      ],
      "metadata": {
        "id": "KL74k2UEixX8"
      },
      "execution_count": null,
      "outputs": []
    },
    {
      "cell_type": "code",
      "source": [
        "# To get a list of Account No\n",
        "df_bank['Account No'].unique()"
      ],
      "metadata": {
        "colab": {
          "base_uri": "https://localhost:8080/"
        },
        "id": "joYcItpfkTMM",
        "outputId": "0ba421d3-aa51-4348-ed42-fbcaeba4d9db"
      },
      "execution_count": null,
      "outputs": [
        {
          "output_type": "execute_result",
          "data": {
            "text/plain": [
              "array([\"409000611074'\", \"409000493201'\", \"409000425051'\", \"409000405747'\",\n",
              "       \"409000438611'\", \"409000493210'\", \"409000438620'\", \"1196711'\",\n",
              "       \"1196428'\", \"409000362497'\"], dtype=object)"
            ]
          },
          "metadata": {},
          "execution_count": 44
        }
      ]
    },
    {
      "cell_type": "code",
      "source": [
        "# check data shape (rows, columns)\n",
        "print(\"Data Frame Shape\", df_bank.shape)"
      ],
      "metadata": {
        "colab": {
          "base_uri": "https://localhost:8080/"
        },
        "id": "BZqv72w0d1ST",
        "outputId": "39190f3e-a04d-43a8-ad4c-b6da7934fe44"
      },
      "execution_count": null,
      "outputs": [
        {
          "output_type": "stream",
          "name": "stdout",
          "text": [
            "Data Frame Shape (116201, 9)\n"
          ]
        }
      ]
    },
    {
      "cell_type": "markdown",
      "source": [
        "---\n",
        "\n",
        "* The dataframe has 116.201 rows and 9 columns\n",
        "\n",
        "---"
      ],
      "metadata": {
        "id": "uLPK3BgabKsS"
      }
    },
    {
      "cell_type": "code",
      "source": [
        "df_bank.info()"
      ],
      "metadata": {
        "colab": {
          "base_uri": "https://localhost:8080/"
        },
        "id": "TWS3nS1Q4pL6",
        "outputId": "4407984b-4311-49b9-878e-44b4a5c2c009"
      },
      "execution_count": null,
      "outputs": [
        {
          "output_type": "stream",
          "name": "stdout",
          "text": [
            "<class 'pandas.core.frame.DataFrame'>\n",
            "RangeIndex: 116201 entries, 0 to 116200\n",
            "Data columns (total 9 columns):\n",
            " #   Column               Non-Null Count   Dtype  \n",
            "---  ------               --------------   -----  \n",
            " 0   Account No           116201 non-null  object \n",
            " 1   DATE                 116201 non-null  object \n",
            " 2   TRANSACTION DETAILS  113702 non-null  object \n",
            " 3   CHQ.NO.              905 non-null     float64\n",
            " 4   VALUE DATE           116201 non-null  object \n",
            " 5    WITHDRAWAL AMT      53549 non-null   object \n",
            " 6    DEPOSIT AMT         62652 non-null   object \n",
            " 7   BALANCE AMT          116201 non-null  object \n",
            " 8   .                    116201 non-null  object \n",
            "dtypes: float64(1), object(8)\n",
            "memory usage: 8.0+ MB\n"
          ]
        }
      ]
    },
    {
      "cell_type": "code",
      "source": [
        "# print column names\n",
        "print(\"Column names: \", df_bank.columns.values)"
      ],
      "metadata": {
        "colab": {
          "base_uri": "https://localhost:8080/"
        },
        "id": "MEFtzV7eglt3",
        "outputId": "5750e99d-c5e1-4f5e-a28f-80decff829c8"
      },
      "execution_count": null,
      "outputs": [
        {
          "output_type": "stream",
          "name": "stdout",
          "text": [
            "Column names:  ['Account No' 'DATE' 'TRANSACTION DETAILS' 'CHQ.NO.' 'VALUE DATE'\n",
            " ' WITHDRAWAL AMT ' ' DEPOSIT AMT ' 'BALANCE AMT' '.']\n"
          ]
        }
      ]
    },
    {
      "cell_type": "code",
      "source": [
        "#check null values for each column (Columns with 0 are complete)\n",
        "df_bank.isna().sum()"
      ],
      "metadata": {
        "colab": {
          "base_uri": "https://localhost:8080/"
        },
        "id": "YWJVSiGqeX64",
        "outputId": "6563ec6c-c47f-4e00-e349-764b5d160909"
      },
      "execution_count": null,
      "outputs": [
        {
          "output_type": "execute_result",
          "data": {
            "text/plain": [
              "Account No                  0\n",
              "DATE                        0\n",
              "TRANSACTION DETAILS      2499\n",
              "CHQ.NO.                115296\n",
              "VALUE DATE                  0\n",
              " WITHDRAWAL AMT         62652\n",
              " DEPOSIT AMT            53549\n",
              "BALANCE AMT                 0\n",
              ".                           0\n",
              "dtype: int64"
            ]
          },
          "metadata": {},
          "execution_count": 17
        }
      ]
    },
    {
      "cell_type": "code",
      "source": [
        "#check null values for all Data Frame\n",
        "df_bank.isna().sum().sum()"
      ],
      "metadata": {
        "colab": {
          "base_uri": "https://localhost:8080/"
        },
        "id": "ImN1J5B_h3VL",
        "outputId": "1b5bba36-aa8e-4dd2-984b-01c479e255cc"
      },
      "execution_count": null,
      "outputs": [
        {
          "output_type": "execute_result",
          "data": {
            "text/plain": [
              "233996"
            ]
          },
          "metadata": {},
          "execution_count": 18
        }
      ]
    },
    {
      "cell_type": "code",
      "source": [
        "#There are 4 variables with missing values: Transaction Details, CHQ. NO., Withdrawal AMT and Balance AMT, but we can not consider those last two \n",
        "#Let's check if the sum of Withdrawal with Deposit are equal to the total rows \n",
        "df_count = df_bank.isna().sum()\n",
        "df_count.iloc[5] + df_count.iloc[6]"
      ],
      "metadata": {
        "colab": {
          "base_uri": "https://localhost:8080/"
        },
        "id": "ACojMye4ejbO",
        "outputId": "32c331ec-872b-4739-ad5a-07ff1806d798"
      },
      "execution_count": null,
      "outputs": [
        {
          "output_type": "execute_result",
          "data": {
            "text/plain": [
              "116201"
            ]
          },
          "metadata": {},
          "execution_count": 19
        }
      ]
    },
    {
      "cell_type": "code",
      "source": [
        "# to show all non numerical data\n",
        "df_bank.select_dtypes(exclude=['number'])"
      ],
      "metadata": {
        "colab": {
          "base_uri": "https://localhost:8080/",
          "height": 424
        },
        "id": "EzpcP6TColgz",
        "outputId": "ef8637d1-2272-438f-92d1-997dfc63f601"
      },
      "execution_count": null,
      "outputs": [
        {
          "output_type": "execute_result",
          "data": {
            "text/plain": [
              "           Account No        DATE               TRANSACTION DETAILS  \\\n",
              "0       409000611074'  29-jun.-17  TRF FROM  Indiaforensic SERVICES   \n",
              "1       409000611074'   5-jul.-17  TRF FROM  Indiaforensic SERVICES   \n",
              "2       409000611074'  18-jul.-17        FDRL/INTERNAL FUND TRANSFE   \n",
              "3       409000611074'   1-ago.-17   TRF FRM  Indiaforensic SERVICES   \n",
              "4       409000611074'  16-ago.-17        FDRL/INTERNAL FUND TRANSFE   \n",
              "...               ...         ...                               ...   \n",
              "116196  409000362497'   5-mar.-19  TRF TO 1196428  Indiaforensic SE   \n",
              "116197  409000362497'   5-mar.-19        FDRL/INTERNAL FUND TRANSFE   \n",
              "116198  409000362497'   5-mar.-19        FDRL/INTERNAL FUND TRANSFE   \n",
              "116199  409000362497'   5-mar.-19                 IMPS 05-03-20194C   \n",
              "116200  409000362497'   5-mar.-19         Sweep Trf To: 40900036427   \n",
              "\n",
              "        VALUE DATE  WITHDRAWAL AMT      DEPOSIT AMT            BALANCE AMT  .  \n",
              "0       29-jun.-17              NaN    1.000.000,00          1.000.000,00   .  \n",
              "1        5-jul.-17              NaN    1.000.000,00          2.000.000,00   .  \n",
              "2       18-jul.-17              NaN      500.000,00          2.500.000,00   .  \n",
              "3        1-ago.-17              NaN    3.000.000,00          5.500.000,00   .  \n",
              "4       16-ago.-17              NaN      500.000,00          6.000.000,00   .  \n",
              "...            ...              ...              ...                   ... ..  \n",
              "116196   5-mar.-19      117.934,30               NaN    -1.901.902.092,61   .  \n",
              "116197   5-mar.-19              NaN      300.000,00     -1.901.602.092,61   .  \n",
              "116198   5-mar.-19              NaN      300.000,00     -1.901.302.092,61   .  \n",
              "116199   5-mar.-19      109.868,65               NaN    -1.901.411.961,26   .  \n",
              "116200   5-mar.-19        5.000,00               NaN    -1.901.416.961,26   .  \n",
              "\n",
              "[116201 rows x 8 columns]"
            ],
            "text/html": [
              "\n",
              "  <div id=\"df-5440194b-165f-4cbf-8858-a281814f40c6\">\n",
              "    <div class=\"colab-df-container\">\n",
              "      <div>\n",
              "<style scoped>\n",
              "    .dataframe tbody tr th:only-of-type {\n",
              "        vertical-align: middle;\n",
              "    }\n",
              "\n",
              "    .dataframe tbody tr th {\n",
              "        vertical-align: top;\n",
              "    }\n",
              "\n",
              "    .dataframe thead th {\n",
              "        text-align: right;\n",
              "    }\n",
              "</style>\n",
              "<table border=\"1\" class=\"dataframe\">\n",
              "  <thead>\n",
              "    <tr style=\"text-align: right;\">\n",
              "      <th></th>\n",
              "      <th>Account No</th>\n",
              "      <th>DATE</th>\n",
              "      <th>TRANSACTION DETAILS</th>\n",
              "      <th>VALUE DATE</th>\n",
              "      <th>WITHDRAWAL AMT</th>\n",
              "      <th>DEPOSIT AMT</th>\n",
              "      <th>BALANCE AMT</th>\n",
              "      <th>.</th>\n",
              "    </tr>\n",
              "  </thead>\n",
              "  <tbody>\n",
              "    <tr>\n",
              "      <th>0</th>\n",
              "      <td>409000611074'</td>\n",
              "      <td>29-jun.-17</td>\n",
              "      <td>TRF FROM  Indiaforensic SERVICES</td>\n",
              "      <td>29-jun.-17</td>\n",
              "      <td>NaN</td>\n",
              "      <td>1.000.000,00</td>\n",
              "      <td>1.000.000,00</td>\n",
              "      <td>.</td>\n",
              "    </tr>\n",
              "    <tr>\n",
              "      <th>1</th>\n",
              "      <td>409000611074'</td>\n",
              "      <td>5-jul.-17</td>\n",
              "      <td>TRF FROM  Indiaforensic SERVICES</td>\n",
              "      <td>5-jul.-17</td>\n",
              "      <td>NaN</td>\n",
              "      <td>1.000.000,00</td>\n",
              "      <td>2.000.000,00</td>\n",
              "      <td>.</td>\n",
              "    </tr>\n",
              "    <tr>\n",
              "      <th>2</th>\n",
              "      <td>409000611074'</td>\n",
              "      <td>18-jul.-17</td>\n",
              "      <td>FDRL/INTERNAL FUND TRANSFE</td>\n",
              "      <td>18-jul.-17</td>\n",
              "      <td>NaN</td>\n",
              "      <td>500.000,00</td>\n",
              "      <td>2.500.000,00</td>\n",
              "      <td>.</td>\n",
              "    </tr>\n",
              "    <tr>\n",
              "      <th>3</th>\n",
              "      <td>409000611074'</td>\n",
              "      <td>1-ago.-17</td>\n",
              "      <td>TRF FRM  Indiaforensic SERVICES</td>\n",
              "      <td>1-ago.-17</td>\n",
              "      <td>NaN</td>\n",
              "      <td>3.000.000,00</td>\n",
              "      <td>5.500.000,00</td>\n",
              "      <td>.</td>\n",
              "    </tr>\n",
              "    <tr>\n",
              "      <th>4</th>\n",
              "      <td>409000611074'</td>\n",
              "      <td>16-ago.-17</td>\n",
              "      <td>FDRL/INTERNAL FUND TRANSFE</td>\n",
              "      <td>16-ago.-17</td>\n",
              "      <td>NaN</td>\n",
              "      <td>500.000,00</td>\n",
              "      <td>6.000.000,00</td>\n",
              "      <td>.</td>\n",
              "    </tr>\n",
              "    <tr>\n",
              "      <th>...</th>\n",
              "      <td>...</td>\n",
              "      <td>...</td>\n",
              "      <td>...</td>\n",
              "      <td>...</td>\n",
              "      <td>...</td>\n",
              "      <td>...</td>\n",
              "      <td>...</td>\n",
              "      <td>...</td>\n",
              "    </tr>\n",
              "    <tr>\n",
              "      <th>116196</th>\n",
              "      <td>409000362497'</td>\n",
              "      <td>5-mar.-19</td>\n",
              "      <td>TRF TO 1196428  Indiaforensic SE</td>\n",
              "      <td>5-mar.-19</td>\n",
              "      <td>117.934,30</td>\n",
              "      <td>NaN</td>\n",
              "      <td>-1.901.902.092,61</td>\n",
              "      <td>.</td>\n",
              "    </tr>\n",
              "    <tr>\n",
              "      <th>116197</th>\n",
              "      <td>409000362497'</td>\n",
              "      <td>5-mar.-19</td>\n",
              "      <td>FDRL/INTERNAL FUND TRANSFE</td>\n",
              "      <td>5-mar.-19</td>\n",
              "      <td>NaN</td>\n",
              "      <td>300.000,00</td>\n",
              "      <td>-1.901.602.092,61</td>\n",
              "      <td>.</td>\n",
              "    </tr>\n",
              "    <tr>\n",
              "      <th>116198</th>\n",
              "      <td>409000362497'</td>\n",
              "      <td>5-mar.-19</td>\n",
              "      <td>FDRL/INTERNAL FUND TRANSFE</td>\n",
              "      <td>5-mar.-19</td>\n",
              "      <td>NaN</td>\n",
              "      <td>300.000,00</td>\n",
              "      <td>-1.901.302.092,61</td>\n",
              "      <td>.</td>\n",
              "    </tr>\n",
              "    <tr>\n",
              "      <th>116199</th>\n",
              "      <td>409000362497'</td>\n",
              "      <td>5-mar.-19</td>\n",
              "      <td>IMPS 05-03-20194C</td>\n",
              "      <td>5-mar.-19</td>\n",
              "      <td>109.868,65</td>\n",
              "      <td>NaN</td>\n",
              "      <td>-1.901.411.961,26</td>\n",
              "      <td>.</td>\n",
              "    </tr>\n",
              "    <tr>\n",
              "      <th>116200</th>\n",
              "      <td>409000362497'</td>\n",
              "      <td>5-mar.-19</td>\n",
              "      <td>Sweep Trf To: 40900036427</td>\n",
              "      <td>5-mar.-19</td>\n",
              "      <td>5.000,00</td>\n",
              "      <td>NaN</td>\n",
              "      <td>-1.901.416.961,26</td>\n",
              "      <td>.</td>\n",
              "    </tr>\n",
              "  </tbody>\n",
              "</table>\n",
              "<p>116201 rows × 8 columns</p>\n",
              "</div>\n",
              "      <button class=\"colab-df-convert\" onclick=\"convertToInteractive('df-5440194b-165f-4cbf-8858-a281814f40c6')\"\n",
              "              title=\"Convert this dataframe to an interactive table.\"\n",
              "              style=\"display:none;\">\n",
              "        \n",
              "  <svg xmlns=\"http://www.w3.org/2000/svg\" height=\"24px\"viewBox=\"0 0 24 24\"\n",
              "       width=\"24px\">\n",
              "    <path d=\"M0 0h24v24H0V0z\" fill=\"none\"/>\n",
              "    <path d=\"M18.56 5.44l.94 2.06.94-2.06 2.06-.94-2.06-.94-.94-2.06-.94 2.06-2.06.94zm-11 1L8.5 8.5l.94-2.06 2.06-.94-2.06-.94L8.5 2.5l-.94 2.06-2.06.94zm10 10l.94 2.06.94-2.06 2.06-.94-2.06-.94-.94-2.06-.94 2.06-2.06.94z\"/><path d=\"M17.41 7.96l-1.37-1.37c-.4-.4-.92-.59-1.43-.59-.52 0-1.04.2-1.43.59L10.3 9.45l-7.72 7.72c-.78.78-.78 2.05 0 2.83L4 21.41c.39.39.9.59 1.41.59.51 0 1.02-.2 1.41-.59l7.78-7.78 2.81-2.81c.8-.78.8-2.07 0-2.86zM5.41 20L4 18.59l7.72-7.72 1.47 1.35L5.41 20z\"/>\n",
              "  </svg>\n",
              "      </button>\n",
              "      \n",
              "  <style>\n",
              "    .colab-df-container {\n",
              "      display:flex;\n",
              "      flex-wrap:wrap;\n",
              "      gap: 12px;\n",
              "    }\n",
              "\n",
              "    .colab-df-convert {\n",
              "      background-color: #E8F0FE;\n",
              "      border: none;\n",
              "      border-radius: 50%;\n",
              "      cursor: pointer;\n",
              "      display: none;\n",
              "      fill: #1967D2;\n",
              "      height: 32px;\n",
              "      padding: 0 0 0 0;\n",
              "      width: 32px;\n",
              "    }\n",
              "\n",
              "    .colab-df-convert:hover {\n",
              "      background-color: #E2EBFA;\n",
              "      box-shadow: 0px 1px 2px rgba(60, 64, 67, 0.3), 0px 1px 3px 1px rgba(60, 64, 67, 0.15);\n",
              "      fill: #174EA6;\n",
              "    }\n",
              "\n",
              "    [theme=dark] .colab-df-convert {\n",
              "      background-color: #3B4455;\n",
              "      fill: #D2E3FC;\n",
              "    }\n",
              "\n",
              "    [theme=dark] .colab-df-convert:hover {\n",
              "      background-color: #434B5C;\n",
              "      box-shadow: 0px 1px 3px 1px rgba(0, 0, 0, 0.15);\n",
              "      filter: drop-shadow(0px 1px 2px rgba(0, 0, 0, 0.3));\n",
              "      fill: #FFFFFF;\n",
              "    }\n",
              "  </style>\n",
              "\n",
              "      <script>\n",
              "        const buttonEl =\n",
              "          document.querySelector('#df-5440194b-165f-4cbf-8858-a281814f40c6 button.colab-df-convert');\n",
              "        buttonEl.style.display =\n",
              "          google.colab.kernel.accessAllowed ? 'block' : 'none';\n",
              "\n",
              "        async function convertToInteractive(key) {\n",
              "          const element = document.querySelector('#df-5440194b-165f-4cbf-8858-a281814f40c6');\n",
              "          const dataTable =\n",
              "            await google.colab.kernel.invokeFunction('convertToInteractive',\n",
              "                                                     [key], {});\n",
              "          if (!dataTable) return;\n",
              "\n",
              "          const docLinkHtml = 'Like what you see? Visit the ' +\n",
              "            '<a target=\"_blank\" href=https://colab.research.google.com/notebooks/data_table.ipynb>data table notebook</a>'\n",
              "            + ' to learn more about interactive tables.';\n",
              "          element.innerHTML = '';\n",
              "          dataTable['output_type'] = 'display_data';\n",
              "          await google.colab.output.renderOutput(dataTable, element);\n",
              "          const docLink = document.createElement('div');\n",
              "          docLink.innerHTML = docLinkHtml;\n",
              "          element.appendChild(docLink);\n",
              "        }\n",
              "      </script>\n",
              "    </div>\n",
              "  </div>\n",
              "  "
            ]
          },
          "metadata": {},
          "execution_count": 20
        }
      ]
    },
    {
      "cell_type": "code",
      "source": [
        "# to show the types of data in each column\n",
        "df_bank.dtypes"
      ],
      "metadata": {
        "colab": {
          "base_uri": "https://localhost:8080/"
        },
        "id": "kJWaQybywWyb",
        "outputId": "11d1961d-0b07-46b9-d14d-e812b8e28286"
      },
      "execution_count": null,
      "outputs": [
        {
          "output_type": "execute_result",
          "data": {
            "text/plain": [
              "Account No              object\n",
              "DATE                    object\n",
              "TRANSACTION DETAILS     object\n",
              "CHQ.NO.                float64\n",
              "VALUE DATE              object\n",
              " WITHDRAWAL AMT         object\n",
              " DEPOSIT AMT            object\n",
              "BALANCE AMT             object\n",
              ".                       object\n",
              "dtype: object"
            ]
          },
          "metadata": {},
          "execution_count": 21
        }
      ]
    },
    {
      "cell_type": "code",
      "source": [
        "# to show the types of data in a specific column\n",
        "df_bank['BALANCE AMT'].dtypes"
      ],
      "metadata": {
        "colab": {
          "base_uri": "https://localhost:8080/"
        },
        "id": "a90axp8wwb9e",
        "outputId": "0f3a9602-14d8-4719-af0d-e4aca0b44d4a"
      },
      "execution_count": null,
      "outputs": [
        {
          "output_type": "execute_result",
          "data": {
            "text/plain": [
              "dtype('O')"
            ]
          },
          "metadata": {},
          "execution_count": 22
        }
      ]
    },
    {
      "cell_type": "code",
      "source": [
        "#all data are objects, so we will parse each them to specific data type\n",
        "\n",
        "# all data in BALANCE AMT column will be parse to float\n",
        "df_bank['BALANCE AMT'] = df_bank['BALANCE AMT'].apply(lambda value: float(value.strip().replace(\".\", \"\").replace(\",\", \".\"))) #pd.to_numeric(df_bank['BALANCE AMT'], downcast='float')\n",
        "# to show the types of data in a specific column\n",
        "df_bank['BALANCE AMT'].dtypes\n"
      ],
      "metadata": {
        "colab": {
          "base_uri": "https://localhost:8080/"
        },
        "id": "vAGSpgObomPE",
        "outputId": "8afd921d-65f4-43e0-fba0-900a86b57a91"
      },
      "execution_count": null,
      "outputs": [
        {
          "output_type": "execute_result",
          "data": {
            "text/plain": [
              "dtype('float64')"
            ]
          },
          "metadata": {},
          "execution_count": 23
        }
      ]
    },
    {
      "cell_type": "code",
      "source": [
        "# all data in WITHDRAWAL AMT column will be parse to float\n",
        "df_bank[' WITHDRAWAL AMT '] = df_bank[' WITHDRAWAL AMT '].apply(lambda value: float(value.strip().replace(\".\", \"\").replace(\",\", \".\")) if isinstance(value, str) else value)\n",
        "df_bank[' WITHDRAWAL AMT '].dtypes"
      ],
      "metadata": {
        "colab": {
          "base_uri": "https://localhost:8080/"
        },
        "id": "DhByvjkPomae",
        "outputId": "6e1d3afb-2705-4638-b1e2-2bbd18e18fe6"
      },
      "execution_count": null,
      "outputs": [
        {
          "output_type": "execute_result",
          "data": {
            "text/plain": [
              "dtype('float64')"
            ]
          },
          "metadata": {},
          "execution_count": 24
        }
      ]
    },
    {
      "cell_type": "code",
      "source": [
        "# all data in WITHDRAWAL AMT column will be parse to float\n",
        "df_bank[' DEPOSIT AMT '] = df_bank[' DEPOSIT AMT '].apply(lambda value: float(value.strip().replace(\".\", \"\").replace(\",\", \".\")) if isinstance(value, str) else value)\n",
        "\n",
        "df_bank[' DEPOSIT AMT '].dtypes"
      ],
      "metadata": {
        "colab": {
          "base_uri": "https://localhost:8080/"
        },
        "id": "kM9eNNCoo0RU",
        "outputId": "c85dbf82-a57f-46a7-da41-e916f50c80fb"
      },
      "execution_count": null,
      "outputs": [
        {
          "output_type": "execute_result",
          "data": {
            "text/plain": [
              "dtype('float64')"
            ]
          },
          "metadata": {},
          "execution_count": 25
        }
      ]
    },
    {
      "cell_type": "code",
      "source": [
        "# to show all mumeric data \n",
        "df_bank._get_numeric_data()"
      ],
      "metadata": {
        "colab": {
          "base_uri": "https://localhost:8080/",
          "height": 424
        },
        "id": "cSTB2Ro_xEFg",
        "outputId": "6bc7d0fe-8cd3-4e33-e4b4-9c74c52b3094"
      },
      "execution_count": null,
      "outputs": [
        {
          "output_type": "execute_result",
          "data": {
            "text/plain": [
              "        CHQ.NO.   WITHDRAWAL AMT    DEPOSIT AMT    BALANCE AMT\n",
              "0           NaN               NaN      1000000.0  1.000000e+06\n",
              "1           NaN               NaN      1000000.0  2.000000e+06\n",
              "2           NaN               NaN       500000.0  2.500000e+06\n",
              "3           NaN               NaN      3000000.0  5.500000e+06\n",
              "4           NaN               NaN       500000.0  6.000000e+06\n",
              "...         ...               ...            ...           ...\n",
              "116196      NaN         117934.30            NaN -1.901902e+09\n",
              "116197      NaN               NaN       300000.0 -1.901602e+09\n",
              "116198      NaN               NaN       300000.0 -1.901302e+09\n",
              "116199      NaN         109868.65            NaN -1.901412e+09\n",
              "116200      NaN           5000.00            NaN -1.901417e+09\n",
              "\n",
              "[116201 rows x 4 columns]"
            ],
            "text/html": [
              "\n",
              "  <div id=\"df-b96542f7-8a4c-41ef-b14b-69dd872a13c1\">\n",
              "    <div class=\"colab-df-container\">\n",
              "      <div>\n",
              "<style scoped>\n",
              "    .dataframe tbody tr th:only-of-type {\n",
              "        vertical-align: middle;\n",
              "    }\n",
              "\n",
              "    .dataframe tbody tr th {\n",
              "        vertical-align: top;\n",
              "    }\n",
              "\n",
              "    .dataframe thead th {\n",
              "        text-align: right;\n",
              "    }\n",
              "</style>\n",
              "<table border=\"1\" class=\"dataframe\">\n",
              "  <thead>\n",
              "    <tr style=\"text-align: right;\">\n",
              "      <th></th>\n",
              "      <th>CHQ.NO.</th>\n",
              "      <th>WITHDRAWAL AMT</th>\n",
              "      <th>DEPOSIT AMT</th>\n",
              "      <th>BALANCE AMT</th>\n",
              "    </tr>\n",
              "  </thead>\n",
              "  <tbody>\n",
              "    <tr>\n",
              "      <th>0</th>\n",
              "      <td>NaN</td>\n",
              "      <td>NaN</td>\n",
              "      <td>1000000.0</td>\n",
              "      <td>1.000000e+06</td>\n",
              "    </tr>\n",
              "    <tr>\n",
              "      <th>1</th>\n",
              "      <td>NaN</td>\n",
              "      <td>NaN</td>\n",
              "      <td>1000000.0</td>\n",
              "      <td>2.000000e+06</td>\n",
              "    </tr>\n",
              "    <tr>\n",
              "      <th>2</th>\n",
              "      <td>NaN</td>\n",
              "      <td>NaN</td>\n",
              "      <td>500000.0</td>\n",
              "      <td>2.500000e+06</td>\n",
              "    </tr>\n",
              "    <tr>\n",
              "      <th>3</th>\n",
              "      <td>NaN</td>\n",
              "      <td>NaN</td>\n",
              "      <td>3000000.0</td>\n",
              "      <td>5.500000e+06</td>\n",
              "    </tr>\n",
              "    <tr>\n",
              "      <th>4</th>\n",
              "      <td>NaN</td>\n",
              "      <td>NaN</td>\n",
              "      <td>500000.0</td>\n",
              "      <td>6.000000e+06</td>\n",
              "    </tr>\n",
              "    <tr>\n",
              "      <th>...</th>\n",
              "      <td>...</td>\n",
              "      <td>...</td>\n",
              "      <td>...</td>\n",
              "      <td>...</td>\n",
              "    </tr>\n",
              "    <tr>\n",
              "      <th>116196</th>\n",
              "      <td>NaN</td>\n",
              "      <td>117934.30</td>\n",
              "      <td>NaN</td>\n",
              "      <td>-1.901902e+09</td>\n",
              "    </tr>\n",
              "    <tr>\n",
              "      <th>116197</th>\n",
              "      <td>NaN</td>\n",
              "      <td>NaN</td>\n",
              "      <td>300000.0</td>\n",
              "      <td>-1.901602e+09</td>\n",
              "    </tr>\n",
              "    <tr>\n",
              "      <th>116198</th>\n",
              "      <td>NaN</td>\n",
              "      <td>NaN</td>\n",
              "      <td>300000.0</td>\n",
              "      <td>-1.901302e+09</td>\n",
              "    </tr>\n",
              "    <tr>\n",
              "      <th>116199</th>\n",
              "      <td>NaN</td>\n",
              "      <td>109868.65</td>\n",
              "      <td>NaN</td>\n",
              "      <td>-1.901412e+09</td>\n",
              "    </tr>\n",
              "    <tr>\n",
              "      <th>116200</th>\n",
              "      <td>NaN</td>\n",
              "      <td>5000.00</td>\n",
              "      <td>NaN</td>\n",
              "      <td>-1.901417e+09</td>\n",
              "    </tr>\n",
              "  </tbody>\n",
              "</table>\n",
              "<p>116201 rows × 4 columns</p>\n",
              "</div>\n",
              "      <button class=\"colab-df-convert\" onclick=\"convertToInteractive('df-b96542f7-8a4c-41ef-b14b-69dd872a13c1')\"\n",
              "              title=\"Convert this dataframe to an interactive table.\"\n",
              "              style=\"display:none;\">\n",
              "        \n",
              "  <svg xmlns=\"http://www.w3.org/2000/svg\" height=\"24px\"viewBox=\"0 0 24 24\"\n",
              "       width=\"24px\">\n",
              "    <path d=\"M0 0h24v24H0V0z\" fill=\"none\"/>\n",
              "    <path d=\"M18.56 5.44l.94 2.06.94-2.06 2.06-.94-2.06-.94-.94-2.06-.94 2.06-2.06.94zm-11 1L8.5 8.5l.94-2.06 2.06-.94-2.06-.94L8.5 2.5l-.94 2.06-2.06.94zm10 10l.94 2.06.94-2.06 2.06-.94-2.06-.94-.94-2.06-.94 2.06-2.06.94z\"/><path d=\"M17.41 7.96l-1.37-1.37c-.4-.4-.92-.59-1.43-.59-.52 0-1.04.2-1.43.59L10.3 9.45l-7.72 7.72c-.78.78-.78 2.05 0 2.83L4 21.41c.39.39.9.59 1.41.59.51 0 1.02-.2 1.41-.59l7.78-7.78 2.81-2.81c.8-.78.8-2.07 0-2.86zM5.41 20L4 18.59l7.72-7.72 1.47 1.35L5.41 20z\"/>\n",
              "  </svg>\n",
              "      </button>\n",
              "      \n",
              "  <style>\n",
              "    .colab-df-container {\n",
              "      display:flex;\n",
              "      flex-wrap:wrap;\n",
              "      gap: 12px;\n",
              "    }\n",
              "\n",
              "    .colab-df-convert {\n",
              "      background-color: #E8F0FE;\n",
              "      border: none;\n",
              "      border-radius: 50%;\n",
              "      cursor: pointer;\n",
              "      display: none;\n",
              "      fill: #1967D2;\n",
              "      height: 32px;\n",
              "      padding: 0 0 0 0;\n",
              "      width: 32px;\n",
              "    }\n",
              "\n",
              "    .colab-df-convert:hover {\n",
              "      background-color: #E2EBFA;\n",
              "      box-shadow: 0px 1px 2px rgba(60, 64, 67, 0.3), 0px 1px 3px 1px rgba(60, 64, 67, 0.15);\n",
              "      fill: #174EA6;\n",
              "    }\n",
              "\n",
              "    [theme=dark] .colab-df-convert {\n",
              "      background-color: #3B4455;\n",
              "      fill: #D2E3FC;\n",
              "    }\n",
              "\n",
              "    [theme=dark] .colab-df-convert:hover {\n",
              "      background-color: #434B5C;\n",
              "      box-shadow: 0px 1px 3px 1px rgba(0, 0, 0, 0.15);\n",
              "      filter: drop-shadow(0px 1px 2px rgba(0, 0, 0, 0.3));\n",
              "      fill: #FFFFFF;\n",
              "    }\n",
              "  </style>\n",
              "\n",
              "      <script>\n",
              "        const buttonEl =\n",
              "          document.querySelector('#df-b96542f7-8a4c-41ef-b14b-69dd872a13c1 button.colab-df-convert');\n",
              "        buttonEl.style.display =\n",
              "          google.colab.kernel.accessAllowed ? 'block' : 'none';\n",
              "\n",
              "        async function convertToInteractive(key) {\n",
              "          const element = document.querySelector('#df-b96542f7-8a4c-41ef-b14b-69dd872a13c1');\n",
              "          const dataTable =\n",
              "            await google.colab.kernel.invokeFunction('convertToInteractive',\n",
              "                                                     [key], {});\n",
              "          if (!dataTable) return;\n",
              "\n",
              "          const docLinkHtml = 'Like what you see? Visit the ' +\n",
              "            '<a target=\"_blank\" href=https://colab.research.google.com/notebooks/data_table.ipynb>data table notebook</a>'\n",
              "            + ' to learn more about interactive tables.';\n",
              "          element.innerHTML = '';\n",
              "          dataTable['output_type'] = 'display_data';\n",
              "          await google.colab.output.renderOutput(dataTable, element);\n",
              "          const docLink = document.createElement('div');\n",
              "          docLink.innerHTML = docLinkHtml;\n",
              "          element.appendChild(docLink);\n",
              "        }\n",
              "      </script>\n",
              "    </div>\n",
              "  </div>\n",
              "  "
            ]
          },
          "metadata": {},
          "execution_count": 26
        }
      ]
    },
    {
      "cell_type": "code",
      "source": [
        "# cheking number of categories for TRANSACTION DETAILS COLUMN\n",
        "len(df_bank['TRANSACTION DETAILS'].unique())"
      ],
      "metadata": {
        "id": "AW1teVzku7CJ",
        "colab": {
          "base_uri": "https://localhost:8080/"
        },
        "outputId": "a754647c-09e0-4a02-c4e9-1cff96e0110c"
      },
      "execution_count": null,
      "outputs": [
        {
          "output_type": "execute_result",
          "data": {
            "text/plain": [
              "44807"
            ]
          },
          "metadata": {},
          "execution_count": 27
        }
      ]
    },
    {
      "cell_type": "code",
      "source": [
        "# FILLING MISSING DATA AS A NEW CATEGORY CALLED Unknown\n",
        "\n",
        "# function to imput new value\n",
        "def input_category(data_frame,col_name):\n",
        "  data_frame[col_name] = np.where(data_frame[col_name].isnull(), \"Unknown\", data_frame[col_name])"
      ],
      "metadata": {
        "id": "wKB1bpUilSaa"
      },
      "execution_count": null,
      "outputs": []
    },
    {
      "cell_type": "code",
      "source": [
        "# calling function to fill missing data\n",
        "input_category(df_bank, 'TRANSACTION DETAILS')\n",
        "input_category(df_bank, 'CHQ.NO.')"
      ],
      "metadata": {
        "id": "MkEeURHHm-xq"
      },
      "execution_count": null,
      "outputs": []
    },
    {
      "cell_type": "code",
      "source": [
        "df_bank.isna().sum()"
      ],
      "metadata": {
        "colab": {
          "base_uri": "https://localhost:8080/"
        },
        "id": "260LuBRZmhWI",
        "outputId": "da6535b7-c890-4f03-c4ad-639f06ba9ded"
      },
      "execution_count": null,
      "outputs": [
        {
          "output_type": "execute_result",
          "data": {
            "text/plain": [
              "Account No                 0\n",
              "DATE                       0\n",
              "TRANSACTION DETAILS        0\n",
              "CHQ.NO.                    0\n",
              "VALUE DATE                 0\n",
              " WITHDRAWAL AMT        62652\n",
              " DEPOSIT AMT           53549\n",
              "BALANCE AMT                0\n",
              ".                          0\n",
              "dtype: int64"
            ]
          },
          "metadata": {},
          "execution_count": 30
        }
      ]
    },
    {
      "cell_type": "code",
      "source": [
        "# FILLING MISSING DATA AS int zero\n",
        "\n",
        "# function to imput value zero\n",
        "def input_category(data_frame,col_name):\n",
        "  data_frame[col_name] = np.where(data_frame[col_name].isnull(), 0, data_frame[col_name])\n",
        "\n",
        "# calling function to fill missing data\n",
        "input_category(df_bank, ' WITHDRAWAL AMT ')\n",
        "input_category(df_bank, ' DEPOSIT AMT ')\n",
        "\n",
        "\n",
        "# other option to imput zero value to missing data is:\n",
        "#df_bank[[' WITHDRAWAL AMT ', ' DEPOSIT AMT ']] = df_bank[[' WITHDRAWAL AMT ', ' DEPOSIT AMT ']].fillna(value=0)"
      ],
      "metadata": {
        "id": "0UuS1uEfqyr_"
      },
      "execution_count": null,
      "outputs": []
    },
    {
      "cell_type": "code",
      "source": [
        "df_bank.isna().sum()"
      ],
      "metadata": {
        "colab": {
          "base_uri": "https://localhost:8080/"
        },
        "id": "qRLqXikNroQl",
        "outputId": "0d2c4077-b9c4-43dc-8e5b-7a0624309956"
      },
      "execution_count": null,
      "outputs": [
        {
          "output_type": "execute_result",
          "data": {
            "text/plain": [
              "Account No             0\n",
              "DATE                   0\n",
              "TRANSACTION DETAILS    0\n",
              "CHQ.NO.                0\n",
              "VALUE DATE             0\n",
              " WITHDRAWAL AMT        0\n",
              " DEPOSIT AMT           0\n",
              "BALANCE AMT            0\n",
              ".                      0\n",
              "dtype: int64"
            ]
          },
          "metadata": {},
          "execution_count": 32
        }
      ]
    },
    {
      "cell_type": "code",
      "source": [
        "# identifying columns type\n",
        "df_bank.dtypes"
      ],
      "metadata": {
        "colab": {
          "base_uri": "https://localhost:8080/"
        },
        "id": "XhLRNG3MsWsQ",
        "outputId": "b525e06f-7a68-42b8-f577-ad758c5b6703"
      },
      "execution_count": null,
      "outputs": [
        {
          "output_type": "execute_result",
          "data": {
            "text/plain": [
              "Account No              object\n",
              "DATE                    object\n",
              "TRANSACTION DETAILS     object\n",
              "CHQ.NO.                 object\n",
              "VALUE DATE              object\n",
              " WITHDRAWAL AMT        float64\n",
              " DEPOSIT AMT           float64\n",
              "BALANCE AMT            float64\n",
              ".                       object\n",
              "dtype: object"
            ]
          },
          "metadata": {},
          "execution_count": 33
        }
      ]
    },
    {
      "cell_type": "code",
      "source": [
        "# to show mumeric data \n",
        "df_bank._get_numeric_data()\n"
      ],
      "metadata": {
        "colab": {
          "base_uri": "https://localhost:8080/",
          "height": 424
        },
        "id": "QuKYexB7k8df",
        "outputId": "5874df49-db49-42c6-f6f0-56dfe751bf3f"
      },
      "execution_count": null,
      "outputs": [
        {
          "output_type": "execute_result",
          "data": {
            "text/plain": [
              "         WITHDRAWAL AMT    DEPOSIT AMT    BALANCE AMT\n",
              "0                   0.00      1000000.0  1.000000e+06\n",
              "1                   0.00      1000000.0  2.000000e+06\n",
              "2                   0.00       500000.0  2.500000e+06\n",
              "3                   0.00      3000000.0  5.500000e+06\n",
              "4                   0.00       500000.0  6.000000e+06\n",
              "...                  ...            ...           ...\n",
              "116196         117934.30            0.0 -1.901902e+09\n",
              "116197              0.00       300000.0 -1.901602e+09\n",
              "116198              0.00       300000.0 -1.901302e+09\n",
              "116199         109868.65            0.0 -1.901412e+09\n",
              "116200           5000.00            0.0 -1.901417e+09\n",
              "\n",
              "[116201 rows x 3 columns]"
            ],
            "text/html": [
              "\n",
              "  <div id=\"df-0fce997f-a92a-471b-a3a8-a2118ede5069\">\n",
              "    <div class=\"colab-df-container\">\n",
              "      <div>\n",
              "<style scoped>\n",
              "    .dataframe tbody tr th:only-of-type {\n",
              "        vertical-align: middle;\n",
              "    }\n",
              "\n",
              "    .dataframe tbody tr th {\n",
              "        vertical-align: top;\n",
              "    }\n",
              "\n",
              "    .dataframe thead th {\n",
              "        text-align: right;\n",
              "    }\n",
              "</style>\n",
              "<table border=\"1\" class=\"dataframe\">\n",
              "  <thead>\n",
              "    <tr style=\"text-align: right;\">\n",
              "      <th></th>\n",
              "      <th>WITHDRAWAL AMT</th>\n",
              "      <th>DEPOSIT AMT</th>\n",
              "      <th>BALANCE AMT</th>\n",
              "    </tr>\n",
              "  </thead>\n",
              "  <tbody>\n",
              "    <tr>\n",
              "      <th>0</th>\n",
              "      <td>0.00</td>\n",
              "      <td>1000000.0</td>\n",
              "      <td>1.000000e+06</td>\n",
              "    </tr>\n",
              "    <tr>\n",
              "      <th>1</th>\n",
              "      <td>0.00</td>\n",
              "      <td>1000000.0</td>\n",
              "      <td>2.000000e+06</td>\n",
              "    </tr>\n",
              "    <tr>\n",
              "      <th>2</th>\n",
              "      <td>0.00</td>\n",
              "      <td>500000.0</td>\n",
              "      <td>2.500000e+06</td>\n",
              "    </tr>\n",
              "    <tr>\n",
              "      <th>3</th>\n",
              "      <td>0.00</td>\n",
              "      <td>3000000.0</td>\n",
              "      <td>5.500000e+06</td>\n",
              "    </tr>\n",
              "    <tr>\n",
              "      <th>4</th>\n",
              "      <td>0.00</td>\n",
              "      <td>500000.0</td>\n",
              "      <td>6.000000e+06</td>\n",
              "    </tr>\n",
              "    <tr>\n",
              "      <th>...</th>\n",
              "      <td>...</td>\n",
              "      <td>...</td>\n",
              "      <td>...</td>\n",
              "    </tr>\n",
              "    <tr>\n",
              "      <th>116196</th>\n",
              "      <td>117934.30</td>\n",
              "      <td>0.0</td>\n",
              "      <td>-1.901902e+09</td>\n",
              "    </tr>\n",
              "    <tr>\n",
              "      <th>116197</th>\n",
              "      <td>0.00</td>\n",
              "      <td>300000.0</td>\n",
              "      <td>-1.901602e+09</td>\n",
              "    </tr>\n",
              "    <tr>\n",
              "      <th>116198</th>\n",
              "      <td>0.00</td>\n",
              "      <td>300000.0</td>\n",
              "      <td>-1.901302e+09</td>\n",
              "    </tr>\n",
              "    <tr>\n",
              "      <th>116199</th>\n",
              "      <td>109868.65</td>\n",
              "      <td>0.0</td>\n",
              "      <td>-1.901412e+09</td>\n",
              "    </tr>\n",
              "    <tr>\n",
              "      <th>116200</th>\n",
              "      <td>5000.00</td>\n",
              "      <td>0.0</td>\n",
              "      <td>-1.901417e+09</td>\n",
              "    </tr>\n",
              "  </tbody>\n",
              "</table>\n",
              "<p>116201 rows × 3 columns</p>\n",
              "</div>\n",
              "      <button class=\"colab-df-convert\" onclick=\"convertToInteractive('df-0fce997f-a92a-471b-a3a8-a2118ede5069')\"\n",
              "              title=\"Convert this dataframe to an interactive table.\"\n",
              "              style=\"display:none;\">\n",
              "        \n",
              "  <svg xmlns=\"http://www.w3.org/2000/svg\" height=\"24px\"viewBox=\"0 0 24 24\"\n",
              "       width=\"24px\">\n",
              "    <path d=\"M0 0h24v24H0V0z\" fill=\"none\"/>\n",
              "    <path d=\"M18.56 5.44l.94 2.06.94-2.06 2.06-.94-2.06-.94-.94-2.06-.94 2.06-2.06.94zm-11 1L8.5 8.5l.94-2.06 2.06-.94-2.06-.94L8.5 2.5l-.94 2.06-2.06.94zm10 10l.94 2.06.94-2.06 2.06-.94-2.06-.94-.94-2.06-.94 2.06-2.06.94z\"/><path d=\"M17.41 7.96l-1.37-1.37c-.4-.4-.92-.59-1.43-.59-.52 0-1.04.2-1.43.59L10.3 9.45l-7.72 7.72c-.78.78-.78 2.05 0 2.83L4 21.41c.39.39.9.59 1.41.59.51 0 1.02-.2 1.41-.59l7.78-7.78 2.81-2.81c.8-.78.8-2.07 0-2.86zM5.41 20L4 18.59l7.72-7.72 1.47 1.35L5.41 20z\"/>\n",
              "  </svg>\n",
              "      </button>\n",
              "      \n",
              "  <style>\n",
              "    .colab-df-container {\n",
              "      display:flex;\n",
              "      flex-wrap:wrap;\n",
              "      gap: 12px;\n",
              "    }\n",
              "\n",
              "    .colab-df-convert {\n",
              "      background-color: #E8F0FE;\n",
              "      border: none;\n",
              "      border-radius: 50%;\n",
              "      cursor: pointer;\n",
              "      display: none;\n",
              "      fill: #1967D2;\n",
              "      height: 32px;\n",
              "      padding: 0 0 0 0;\n",
              "      width: 32px;\n",
              "    }\n",
              "\n",
              "    .colab-df-convert:hover {\n",
              "      background-color: #E2EBFA;\n",
              "      box-shadow: 0px 1px 2px rgba(60, 64, 67, 0.3), 0px 1px 3px 1px rgba(60, 64, 67, 0.15);\n",
              "      fill: #174EA6;\n",
              "    }\n",
              "\n",
              "    [theme=dark] .colab-df-convert {\n",
              "      background-color: #3B4455;\n",
              "      fill: #D2E3FC;\n",
              "    }\n",
              "\n",
              "    [theme=dark] .colab-df-convert:hover {\n",
              "      background-color: #434B5C;\n",
              "      box-shadow: 0px 1px 3px 1px rgba(0, 0, 0, 0.15);\n",
              "      filter: drop-shadow(0px 1px 2px rgba(0, 0, 0, 0.3));\n",
              "      fill: #FFFFFF;\n",
              "    }\n",
              "  </style>\n",
              "\n",
              "      <script>\n",
              "        const buttonEl =\n",
              "          document.querySelector('#df-0fce997f-a92a-471b-a3a8-a2118ede5069 button.colab-df-convert');\n",
              "        buttonEl.style.display =\n",
              "          google.colab.kernel.accessAllowed ? 'block' : 'none';\n",
              "\n",
              "        async function convertToInteractive(key) {\n",
              "          const element = document.querySelector('#df-0fce997f-a92a-471b-a3a8-a2118ede5069');\n",
              "          const dataTable =\n",
              "            await google.colab.kernel.invokeFunction('convertToInteractive',\n",
              "                                                     [key], {});\n",
              "          if (!dataTable) return;\n",
              "\n",
              "          const docLinkHtml = 'Like what you see? Visit the ' +\n",
              "            '<a target=\"_blank\" href=https://colab.research.google.com/notebooks/data_table.ipynb>data table notebook</a>'\n",
              "            + ' to learn more about interactive tables.';\n",
              "          element.innerHTML = '';\n",
              "          dataTable['output_type'] = 'display_data';\n",
              "          await google.colab.output.renderOutput(dataTable, element);\n",
              "          const docLink = document.createElement('div');\n",
              "          docLink.innerHTML = docLinkHtml;\n",
              "          element.appendChild(docLink);\n",
              "        }\n",
              "      </script>\n",
              "    </div>\n",
              "  </div>\n",
              "  "
            ]
          },
          "metadata": {},
          "execution_count": 34
        }
      ]
    },
    {
      "cell_type": "code",
      "source": [
        "# to show all NON NUMERICAL data\n",
        "df_bank.select_dtypes(exclude=['number'])"
      ],
      "metadata": {
        "colab": {
          "base_uri": "https://localhost:8080/",
          "height": 424
        },
        "id": "JzfZ5_9glH9t",
        "outputId": "6253d3bc-0545-4e3e-cf1d-7cf4c92d4d92"
      },
      "execution_count": null,
      "outputs": [
        {
          "output_type": "execute_result",
          "data": {
            "text/plain": [
              "           Account No        DATE               TRANSACTION DETAILS  CHQ.NO.  \\\n",
              "0       409000611074'  29-jun.-17  TRF FROM  Indiaforensic SERVICES  Unknown   \n",
              "1       409000611074'   5-jul.-17  TRF FROM  Indiaforensic SERVICES  Unknown   \n",
              "2       409000611074'  18-jul.-17        FDRL/INTERNAL FUND TRANSFE  Unknown   \n",
              "3       409000611074'   1-ago.-17   TRF FRM  Indiaforensic SERVICES  Unknown   \n",
              "4       409000611074'  16-ago.-17        FDRL/INTERNAL FUND TRANSFE  Unknown   \n",
              "...               ...         ...                               ...      ...   \n",
              "116196  409000362497'   5-mar.-19  TRF TO 1196428  Indiaforensic SE  Unknown   \n",
              "116197  409000362497'   5-mar.-19        FDRL/INTERNAL FUND TRANSFE  Unknown   \n",
              "116198  409000362497'   5-mar.-19        FDRL/INTERNAL FUND TRANSFE  Unknown   \n",
              "116199  409000362497'   5-mar.-19                 IMPS 05-03-20194C  Unknown   \n",
              "116200  409000362497'   5-mar.-19         Sweep Trf To: 40900036427  Unknown   \n",
              "\n",
              "        VALUE DATE  .  \n",
              "0       29-jun.-17  .  \n",
              "1        5-jul.-17  .  \n",
              "2       18-jul.-17  .  \n",
              "3        1-ago.-17  .  \n",
              "4       16-ago.-17  .  \n",
              "...            ... ..  \n",
              "116196   5-mar.-19  .  \n",
              "116197   5-mar.-19  .  \n",
              "116198   5-mar.-19  .  \n",
              "116199   5-mar.-19  .  \n",
              "116200   5-mar.-19  .  \n",
              "\n",
              "[116201 rows x 6 columns]"
            ],
            "text/html": [
              "\n",
              "  <div id=\"df-5787e658-d584-4989-892f-91a911347031\">\n",
              "    <div class=\"colab-df-container\">\n",
              "      <div>\n",
              "<style scoped>\n",
              "    .dataframe tbody tr th:only-of-type {\n",
              "        vertical-align: middle;\n",
              "    }\n",
              "\n",
              "    .dataframe tbody tr th {\n",
              "        vertical-align: top;\n",
              "    }\n",
              "\n",
              "    .dataframe thead th {\n",
              "        text-align: right;\n",
              "    }\n",
              "</style>\n",
              "<table border=\"1\" class=\"dataframe\">\n",
              "  <thead>\n",
              "    <tr style=\"text-align: right;\">\n",
              "      <th></th>\n",
              "      <th>Account No</th>\n",
              "      <th>DATE</th>\n",
              "      <th>TRANSACTION DETAILS</th>\n",
              "      <th>CHQ.NO.</th>\n",
              "      <th>VALUE DATE</th>\n",
              "      <th>.</th>\n",
              "    </tr>\n",
              "  </thead>\n",
              "  <tbody>\n",
              "    <tr>\n",
              "      <th>0</th>\n",
              "      <td>409000611074'</td>\n",
              "      <td>29-jun.-17</td>\n",
              "      <td>TRF FROM  Indiaforensic SERVICES</td>\n",
              "      <td>Unknown</td>\n",
              "      <td>29-jun.-17</td>\n",
              "      <td>.</td>\n",
              "    </tr>\n",
              "    <tr>\n",
              "      <th>1</th>\n",
              "      <td>409000611074'</td>\n",
              "      <td>5-jul.-17</td>\n",
              "      <td>TRF FROM  Indiaforensic SERVICES</td>\n",
              "      <td>Unknown</td>\n",
              "      <td>5-jul.-17</td>\n",
              "      <td>.</td>\n",
              "    </tr>\n",
              "    <tr>\n",
              "      <th>2</th>\n",
              "      <td>409000611074'</td>\n",
              "      <td>18-jul.-17</td>\n",
              "      <td>FDRL/INTERNAL FUND TRANSFE</td>\n",
              "      <td>Unknown</td>\n",
              "      <td>18-jul.-17</td>\n",
              "      <td>.</td>\n",
              "    </tr>\n",
              "    <tr>\n",
              "      <th>3</th>\n",
              "      <td>409000611074'</td>\n",
              "      <td>1-ago.-17</td>\n",
              "      <td>TRF FRM  Indiaforensic SERVICES</td>\n",
              "      <td>Unknown</td>\n",
              "      <td>1-ago.-17</td>\n",
              "      <td>.</td>\n",
              "    </tr>\n",
              "    <tr>\n",
              "      <th>4</th>\n",
              "      <td>409000611074'</td>\n",
              "      <td>16-ago.-17</td>\n",
              "      <td>FDRL/INTERNAL FUND TRANSFE</td>\n",
              "      <td>Unknown</td>\n",
              "      <td>16-ago.-17</td>\n",
              "      <td>.</td>\n",
              "    </tr>\n",
              "    <tr>\n",
              "      <th>...</th>\n",
              "      <td>...</td>\n",
              "      <td>...</td>\n",
              "      <td>...</td>\n",
              "      <td>...</td>\n",
              "      <td>...</td>\n",
              "      <td>...</td>\n",
              "    </tr>\n",
              "    <tr>\n",
              "      <th>116196</th>\n",
              "      <td>409000362497'</td>\n",
              "      <td>5-mar.-19</td>\n",
              "      <td>TRF TO 1196428  Indiaforensic SE</td>\n",
              "      <td>Unknown</td>\n",
              "      <td>5-mar.-19</td>\n",
              "      <td>.</td>\n",
              "    </tr>\n",
              "    <tr>\n",
              "      <th>116197</th>\n",
              "      <td>409000362497'</td>\n",
              "      <td>5-mar.-19</td>\n",
              "      <td>FDRL/INTERNAL FUND TRANSFE</td>\n",
              "      <td>Unknown</td>\n",
              "      <td>5-mar.-19</td>\n",
              "      <td>.</td>\n",
              "    </tr>\n",
              "    <tr>\n",
              "      <th>116198</th>\n",
              "      <td>409000362497'</td>\n",
              "      <td>5-mar.-19</td>\n",
              "      <td>FDRL/INTERNAL FUND TRANSFE</td>\n",
              "      <td>Unknown</td>\n",
              "      <td>5-mar.-19</td>\n",
              "      <td>.</td>\n",
              "    </tr>\n",
              "    <tr>\n",
              "      <th>116199</th>\n",
              "      <td>409000362497'</td>\n",
              "      <td>5-mar.-19</td>\n",
              "      <td>IMPS 05-03-20194C</td>\n",
              "      <td>Unknown</td>\n",
              "      <td>5-mar.-19</td>\n",
              "      <td>.</td>\n",
              "    </tr>\n",
              "    <tr>\n",
              "      <th>116200</th>\n",
              "      <td>409000362497'</td>\n",
              "      <td>5-mar.-19</td>\n",
              "      <td>Sweep Trf To: 40900036427</td>\n",
              "      <td>Unknown</td>\n",
              "      <td>5-mar.-19</td>\n",
              "      <td>.</td>\n",
              "    </tr>\n",
              "  </tbody>\n",
              "</table>\n",
              "<p>116201 rows × 6 columns</p>\n",
              "</div>\n",
              "      <button class=\"colab-df-convert\" onclick=\"convertToInteractive('df-5787e658-d584-4989-892f-91a911347031')\"\n",
              "              title=\"Convert this dataframe to an interactive table.\"\n",
              "              style=\"display:none;\">\n",
              "        \n",
              "  <svg xmlns=\"http://www.w3.org/2000/svg\" height=\"24px\"viewBox=\"0 0 24 24\"\n",
              "       width=\"24px\">\n",
              "    <path d=\"M0 0h24v24H0V0z\" fill=\"none\"/>\n",
              "    <path d=\"M18.56 5.44l.94 2.06.94-2.06 2.06-.94-2.06-.94-.94-2.06-.94 2.06-2.06.94zm-11 1L8.5 8.5l.94-2.06 2.06-.94-2.06-.94L8.5 2.5l-.94 2.06-2.06.94zm10 10l.94 2.06.94-2.06 2.06-.94-2.06-.94-.94-2.06-.94 2.06-2.06.94z\"/><path d=\"M17.41 7.96l-1.37-1.37c-.4-.4-.92-.59-1.43-.59-.52 0-1.04.2-1.43.59L10.3 9.45l-7.72 7.72c-.78.78-.78 2.05 0 2.83L4 21.41c.39.39.9.59 1.41.59.51 0 1.02-.2 1.41-.59l7.78-7.78 2.81-2.81c.8-.78.8-2.07 0-2.86zM5.41 20L4 18.59l7.72-7.72 1.47 1.35L5.41 20z\"/>\n",
              "  </svg>\n",
              "      </button>\n",
              "      \n",
              "  <style>\n",
              "    .colab-df-container {\n",
              "      display:flex;\n",
              "      flex-wrap:wrap;\n",
              "      gap: 12px;\n",
              "    }\n",
              "\n",
              "    .colab-df-convert {\n",
              "      background-color: #E8F0FE;\n",
              "      border: none;\n",
              "      border-radius: 50%;\n",
              "      cursor: pointer;\n",
              "      display: none;\n",
              "      fill: #1967D2;\n",
              "      height: 32px;\n",
              "      padding: 0 0 0 0;\n",
              "      width: 32px;\n",
              "    }\n",
              "\n",
              "    .colab-df-convert:hover {\n",
              "      background-color: #E2EBFA;\n",
              "      box-shadow: 0px 1px 2px rgba(60, 64, 67, 0.3), 0px 1px 3px 1px rgba(60, 64, 67, 0.15);\n",
              "      fill: #174EA6;\n",
              "    }\n",
              "\n",
              "    [theme=dark] .colab-df-convert {\n",
              "      background-color: #3B4455;\n",
              "      fill: #D2E3FC;\n",
              "    }\n",
              "\n",
              "    [theme=dark] .colab-df-convert:hover {\n",
              "      background-color: #434B5C;\n",
              "      box-shadow: 0px 1px 3px 1px rgba(0, 0, 0, 0.15);\n",
              "      filter: drop-shadow(0px 1px 2px rgba(0, 0, 0, 0.3));\n",
              "      fill: #FFFFFF;\n",
              "    }\n",
              "  </style>\n",
              "\n",
              "      <script>\n",
              "        const buttonEl =\n",
              "          document.querySelector('#df-5787e658-d584-4989-892f-91a911347031 button.colab-df-convert');\n",
              "        buttonEl.style.display =\n",
              "          google.colab.kernel.accessAllowed ? 'block' : 'none';\n",
              "\n",
              "        async function convertToInteractive(key) {\n",
              "          const element = document.querySelector('#df-5787e658-d584-4989-892f-91a911347031');\n",
              "          const dataTable =\n",
              "            await google.colab.kernel.invokeFunction('convertToInteractive',\n",
              "                                                     [key], {});\n",
              "          if (!dataTable) return;\n",
              "\n",
              "          const docLinkHtml = 'Like what you see? Visit the ' +\n",
              "            '<a target=\"_blank\" href=https://colab.research.google.com/notebooks/data_table.ipynb>data table notebook</a>'\n",
              "            + ' to learn more about interactive tables.';\n",
              "          element.innerHTML = '';\n",
              "          dataTable['output_type'] = 'display_data';\n",
              "          await google.colab.output.renderOutput(dataTable, element);\n",
              "          const docLink = document.createElement('div');\n",
              "          docLink.innerHTML = docLinkHtml;\n",
              "          element.appendChild(docLink);\n",
              "        }\n",
              "      </script>\n",
              "    </div>\n",
              "  </div>\n",
              "  "
            ]
          },
          "metadata": {},
          "execution_count": 35
        }
      ]
    },
    {
      "cell_type": "code",
      "source": [
        "# Finding Duplicate Data\n",
        "duplicate_rows_df = df_bank[df_bank.duplicated()]\n",
        "print(duplicate_rows_df)"
      ],
      "metadata": {
        "colab": {
          "base_uri": "https://localhost:8080/"
        },
        "id": "kLfkMCpIxnRE",
        "outputId": "8baa1f7d-fa03-4ab5-a258-b47fe94a09e7"
      },
      "execution_count": null,
      "outputs": [
        {
          "output_type": "stream",
          "name": "stdout",
          "text": [
            "      Account No        DATE               TRANSACTION DETAILS  CHQ.NO.  \\\n",
            "27296   1196711'  17-jul.-15         INTERNAL FUND TRANSFER IN  Unknown   \n",
            "27514   1196711'  25-jul.-15         INTERNAL FUND TRANSFER IN  Unknown   \n",
            "27515   1196711'  25-jul.-15         INTERNAL FUND TRANSFER IN  Unknown   \n",
            "27516   1196711'  25-jul.-15         INTERNAL FUND TRANSFER IN  Unknown   \n",
            "27517   1196711'  25-jul.-15         INTERNAL FUND TRANSFER IN  Unknown   \n",
            "27842   1196711'   6-ago.-15         INTERNAL FUND TRANSFER IN  Unknown   \n",
            "28170   1196711'  14-ago.-15         INTERNAL FUND TRANSFER IN  Unknown   \n",
            "28801   1196711'   5-set.-15         INTERNAL FUND TRANSFER IN  Unknown   \n",
            "28802   1196711'   5-set.-15         INTERNAL FUND TRANSFER IN  Unknown   \n",
            "28803   1196711'   5-set.-15         INTERNAL FUND TRANSFER IN  Unknown   \n",
            "29581   1196711'  30-set.-15         INTERNAL FUND TRANSFER IN  Unknown   \n",
            "29833   1196711'  12-out.-15  TRF TO  Indiaforensic SERVICES I  Unknown   \n",
            "31976   1196711'   4-jan.-16  TRF FROM  Indiaforensic SERVICES  Unknown   \n",
            "37461   1196711'  24-set.-18        FDRL/INTERNAL FUND TRANSFE  Unknown   \n",
            "37462   1196711'  24-set.-18        FDRL/INTERNAL FUND TRANSFE  Unknown   \n",
            "37464   1196711'  24-set.-18        FDRL/INTERNAL FUND TRANSFE  Unknown   \n",
            "37465   1196711'  24-set.-18        FDRL/INTERNAL FUND TRANSFE  Unknown   \n",
            "37466   1196711'  24-set.-18        FDRL/INTERNAL FUND TRANSFE  Unknown   \n",
            "50764   1196428'  20-mai.-16  TRF FROM  Indiaforensic SERVICES  Unknown   \n",
            "50766   1196428'  20-mai.-16  TRF FROM  Indiaforensic SERVICES  Unknown   \n",
            "50768   1196428'  20-mai.-16  TRF FROM  Indiaforensic SERVICES  Unknown   \n",
            "54621   1196428'  19-ago.-16         INTERNAL FUND TRANSFER IN  Unknown   \n",
            "68790   1196428'   8-dez.-17        FDRL/INTERNAL FUND TRANSFE  Unknown   \n",
            "71499   1196428'  21-fev.-18        FDRL/REAL TIME GROSS SETTL  Unknown   \n",
            "72601   1196428'  31-mar.-18        FDRL/INTERNAL FUND TRANSFE  Unknown   \n",
            "72602   1196428'  31-mar.-18        FDRL/REAL TIME GROSS SETTL  Unknown   \n",
            "72667   1196428'   3-abr.-18  TRF FROM  Indiaforensic SERVICES  Unknown   \n",
            "72668   1196428'   3-abr.-18  TRF FROM  Indiaforensic SERVICES  Unknown   \n",
            "78264   1196428'  23-jul.-18        FDRL/REAL TIME GROSS SETTL  Unknown   \n",
            "80971   1196428'  18-set.-18        FDRL/INTERNAL FUND TRANSFE  Unknown   \n",
            "81043   1196428'  21-set.-18        FDRL/REAL TIME GROSS SETTL  Unknown   \n",
            "82794   1196428'  13-nov.-18        FDRL/REAL TIME GROSS SETTL  Unknown   \n",
            "84411   1196428'  28-dez.-18        FDRL/INTERNAL FUND TRANSFE  Unknown   \n",
            "84445   1196428'  31-dez.-18        FDRL/INTERNAL FUND TRANSFE  Unknown   \n",
            "84446   1196428'  31-dez.-18        FDRL/NATIONAL ELECTRONIC F  Unknown   \n",
            "85194   1196428'  25-jan.-19        FDRL/INTERNAL FUND TRANSFE  Unknown   \n",
            "85505   1196428'   7-fev.-19        FDRL/INTERNAL FUND TRANSFE  Unknown   \n",
            "86127   1196428'  22-fev.-19        FDRL/REAL TIME GROSS SETTL  Unknown   \n",
            "86239   1196428'  27-fev.-19        FDRL/INTERNAL FUND TRANSFE  Unknown   \n",
            "\n",
            "       VALUE DATE   WITHDRAWAL AMT    DEPOSIT AMT    BALANCE AMT  .  \n",
            "27296  17-jul.-15        12000000.0            0.0 -1.069689e+09  .  \n",
            "27514  25-jul.-15        15000000.0            0.0 -1.036886e+09  .  \n",
            "27515  25-jul.-15        15000000.0            0.0 -1.051886e+09  .  \n",
            "27516  25-jul.-15        15000000.0            0.0 -1.066886e+09  .  \n",
            "27517  25-jul.-15        15000000.0            0.0 -1.081886e+09  .  \n",
            "27842   6-ago.-15        10000000.0            0.0 -9.949698e+08  .  \n",
            "28170  14-ago.-15        15000000.0            0.0 -1.147312e+09  .  \n",
            "28801   5-set.-15        10000000.0            0.0 -1.212934e+09  .  \n",
            "28802   5-set.-15        10000000.0            0.0 -1.222934e+09  .  \n",
            "28803   5-set.-15        10000000.0            0.0 -1.232934e+09  .  \n",
            "29581  30-set.-15        15000000.0            0.0 -1.380049e+09  .  \n",
            "29833  12-out.-15        15000000.0            0.0 -1.560038e+09  .  \n",
            "31976   4-jan.-16               0.0     15000000.0 -1.645406e+09  .  \n",
            "37461  24-set.-18               0.0      5000000.0 -1.922001e+09  .  \n",
            "37462  24-set.-18               0.0      5000000.0 -1.917001e+09  .  \n",
            "37464  24-set.-18               0.0      5000000.0 -1.922001e+09  .  \n",
            "37465  24-set.-18               0.0      5000000.0 -1.917001e+09  .  \n",
            "37466  24-set.-18               0.0      5000000.0 -1.912001e+09  .  \n",
            "50764  20-mai.-16               0.0     15000000.0 -1.694845e+09  .  \n",
            "50766  20-mai.-16               0.0     15000000.0 -1.694845e+09  .  \n",
            "50768  20-mai.-16               0.0     15000000.0 -1.694845e+09  .  \n",
            "54621  19-ago.-16        15000000.0            0.0 -1.557819e+09  .  \n",
            "68790   8-dez.-17         1000000.0            0.0 -1.690235e+09  .  \n",
            "71499  21-fev.-18         1000000.0            0.0 -1.690369e+09  .  \n",
            "72601  31-mar.-18               0.0      3000000.0 -1.674845e+09  .  \n",
            "72602  31-mar.-18         3000000.0            0.0 -1.677845e+09  .  \n",
            "72667   3-abr.-18               0.0     15000000.0 -1.674463e+09  .  \n",
            "72668   3-abr.-18               0.0     15000000.0 -1.659463e+09  .  \n",
            "78264  23-jul.-18         1000000.0            0.0 -1.683537e+09  .  \n",
            "80971  18-set.-18          500000.0            0.0 -1.690139e+09  .  \n",
            "81043  21-set.-18         5000000.0            0.0 -1.690417e+09  .  \n",
            "82794  13-nov.-18         3000000.0            0.0 -1.689488e+09  .  \n",
            "84411  28-dez.-18         1000000.0            0.0 -1.690417e+09  .  \n",
            "84445  31-dez.-18               0.0      1000000.0 -1.689020e+09  .  \n",
            "84446  31-dez.-18         1000000.0            0.0 -1.690020e+09  .  \n",
            "85194  25-jan.-19               0.0       500000.0 -1.689584e+09  .  \n",
            "85505   7-fev.-19               0.0      2000000.0 -1.688160e+09  .  \n",
            "86127  22-fev.-19         1000000.0            0.0 -1.690413e+09  .  \n",
            "86239  27-fev.-19         1000000.0            0.0 -1.690313e+09  .  \n"
          ]
        }
      ]
    },
    {
      "cell_type": "code",
      "source": [
        "# Binning Data creating another column with pandas.cut()\n",
        "\n",
        "#label_transaction = ['withdrawall', 'deposit']\n",
        "#category = []\n",
        "#df_bank['transaction_labels'] = pd.cut(df_bank[' WITHDRAWAL AMT\t'], labels=label_transaction, bins=category, include_lowest=False)"
      ],
      "metadata": {
        "id": "s743bl4L0JX6"
      },
      "execution_count": null,
      "outputs": []
    },
    {
      "cell_type": "code",
      "source": [
        "#Encode the categorical variables\n",
        "\n",
        "#import category_encoders as ce\n",
        "\n",
        "#create an object of OneHotEncoder\n",
        "#OHE = ce.OneHotEncoder(cols=[])"
      ],
      "metadata": {
        "id": "DglwJn_zlnIl"
      },
      "execution_count": null,
      "outputs": []
    },
    {
      "cell_type": "markdown",
      "source": [
        "### **Task 2 - EDA (Exploratory Data Analysis)**"
      ],
      "metadata": {
        "id": "SNEbZgvr62Vm"
      }
    },
    {
      "cell_type": "code",
      "source": [
        "#show some basic statistical details\n",
        "\n",
        "df_bank.describe()"
      ],
      "metadata": {
        "colab": {
          "base_uri": "https://localhost:8080/",
          "height": 300
        },
        "id": "hNdRbm_C91yl",
        "outputId": "244a143b-1a24-4ecf-b71d-6a5eec7c5fc0"
      },
      "execution_count": null,
      "outputs": [
        {
          "output_type": "execute_result",
          "data": {
            "text/plain": [
              "        WITHDRAWAL AMT    DEPOSIT AMT    BALANCE AMT\n",
              "count      1.162010e+05   1.162010e+05  1.162010e+05\n",
              "mean       2.068757e+06   2.052394e+06 -1.404852e+09\n",
              "std        7.696881e+06   6.652164e+06  5.348202e+08\n",
              "min        0.000000e+00   0.000000e+00 -2.045201e+09\n",
              "25%        0.000000e+00   0.000000e+00 -1.690383e+09\n",
              "50%        0.000000e+00   5.000000e+03 -1.661395e+09\n",
              "75%        2.682500e+04   5.000000e+05 -1.236888e+09\n",
              "max        4.594475e+08   5.448000e+08  8.500000e+06"
            ],
            "text/html": [
              "\n",
              "  <div id=\"df-5ededc63-0e25-415c-9e9d-1267dd6ab3c6\">\n",
              "    <div class=\"colab-df-container\">\n",
              "      <div>\n",
              "<style scoped>\n",
              "    .dataframe tbody tr th:only-of-type {\n",
              "        vertical-align: middle;\n",
              "    }\n",
              "\n",
              "    .dataframe tbody tr th {\n",
              "        vertical-align: top;\n",
              "    }\n",
              "\n",
              "    .dataframe thead th {\n",
              "        text-align: right;\n",
              "    }\n",
              "</style>\n",
              "<table border=\"1\" class=\"dataframe\">\n",
              "  <thead>\n",
              "    <tr style=\"text-align: right;\">\n",
              "      <th></th>\n",
              "      <th>WITHDRAWAL AMT</th>\n",
              "      <th>DEPOSIT AMT</th>\n",
              "      <th>BALANCE AMT</th>\n",
              "    </tr>\n",
              "  </thead>\n",
              "  <tbody>\n",
              "    <tr>\n",
              "      <th>count</th>\n",
              "      <td>1.162010e+05</td>\n",
              "      <td>1.162010e+05</td>\n",
              "      <td>1.162010e+05</td>\n",
              "    </tr>\n",
              "    <tr>\n",
              "      <th>mean</th>\n",
              "      <td>2.068757e+06</td>\n",
              "      <td>2.052394e+06</td>\n",
              "      <td>-1.404852e+09</td>\n",
              "    </tr>\n",
              "    <tr>\n",
              "      <th>std</th>\n",
              "      <td>7.696881e+06</td>\n",
              "      <td>6.652164e+06</td>\n",
              "      <td>5.348202e+08</td>\n",
              "    </tr>\n",
              "    <tr>\n",
              "      <th>min</th>\n",
              "      <td>0.000000e+00</td>\n",
              "      <td>0.000000e+00</td>\n",
              "      <td>-2.045201e+09</td>\n",
              "    </tr>\n",
              "    <tr>\n",
              "      <th>25%</th>\n",
              "      <td>0.000000e+00</td>\n",
              "      <td>0.000000e+00</td>\n",
              "      <td>-1.690383e+09</td>\n",
              "    </tr>\n",
              "    <tr>\n",
              "      <th>50%</th>\n",
              "      <td>0.000000e+00</td>\n",
              "      <td>5.000000e+03</td>\n",
              "      <td>-1.661395e+09</td>\n",
              "    </tr>\n",
              "    <tr>\n",
              "      <th>75%</th>\n",
              "      <td>2.682500e+04</td>\n",
              "      <td>5.000000e+05</td>\n",
              "      <td>-1.236888e+09</td>\n",
              "    </tr>\n",
              "    <tr>\n",
              "      <th>max</th>\n",
              "      <td>4.594475e+08</td>\n",
              "      <td>5.448000e+08</td>\n",
              "      <td>8.500000e+06</td>\n",
              "    </tr>\n",
              "  </tbody>\n",
              "</table>\n",
              "</div>\n",
              "      <button class=\"colab-df-convert\" onclick=\"convertToInteractive('df-5ededc63-0e25-415c-9e9d-1267dd6ab3c6')\"\n",
              "              title=\"Convert this dataframe to an interactive table.\"\n",
              "              style=\"display:none;\">\n",
              "        \n",
              "  <svg xmlns=\"http://www.w3.org/2000/svg\" height=\"24px\"viewBox=\"0 0 24 24\"\n",
              "       width=\"24px\">\n",
              "    <path d=\"M0 0h24v24H0V0z\" fill=\"none\"/>\n",
              "    <path d=\"M18.56 5.44l.94 2.06.94-2.06 2.06-.94-2.06-.94-.94-2.06-.94 2.06-2.06.94zm-11 1L8.5 8.5l.94-2.06 2.06-.94-2.06-.94L8.5 2.5l-.94 2.06-2.06.94zm10 10l.94 2.06.94-2.06 2.06-.94-2.06-.94-.94-2.06-.94 2.06-2.06.94z\"/><path d=\"M17.41 7.96l-1.37-1.37c-.4-.4-.92-.59-1.43-.59-.52 0-1.04.2-1.43.59L10.3 9.45l-7.72 7.72c-.78.78-.78 2.05 0 2.83L4 21.41c.39.39.9.59 1.41.59.51 0 1.02-.2 1.41-.59l7.78-7.78 2.81-2.81c.8-.78.8-2.07 0-2.86zM5.41 20L4 18.59l7.72-7.72 1.47 1.35L5.41 20z\"/>\n",
              "  </svg>\n",
              "      </button>\n",
              "      \n",
              "  <style>\n",
              "    .colab-df-container {\n",
              "      display:flex;\n",
              "      flex-wrap:wrap;\n",
              "      gap: 12px;\n",
              "    }\n",
              "\n",
              "    .colab-df-convert {\n",
              "      background-color: #E8F0FE;\n",
              "      border: none;\n",
              "      border-radius: 50%;\n",
              "      cursor: pointer;\n",
              "      display: none;\n",
              "      fill: #1967D2;\n",
              "      height: 32px;\n",
              "      padding: 0 0 0 0;\n",
              "      width: 32px;\n",
              "    }\n",
              "\n",
              "    .colab-df-convert:hover {\n",
              "      background-color: #E2EBFA;\n",
              "      box-shadow: 0px 1px 2px rgba(60, 64, 67, 0.3), 0px 1px 3px 1px rgba(60, 64, 67, 0.15);\n",
              "      fill: #174EA6;\n",
              "    }\n",
              "\n",
              "    [theme=dark] .colab-df-convert {\n",
              "      background-color: #3B4455;\n",
              "      fill: #D2E3FC;\n",
              "    }\n",
              "\n",
              "    [theme=dark] .colab-df-convert:hover {\n",
              "      background-color: #434B5C;\n",
              "      box-shadow: 0px 1px 3px 1px rgba(0, 0, 0, 0.15);\n",
              "      filter: drop-shadow(0px 1px 2px rgba(0, 0, 0, 0.3));\n",
              "      fill: #FFFFFF;\n",
              "    }\n",
              "  </style>\n",
              "\n",
              "      <script>\n",
              "        const buttonEl =\n",
              "          document.querySelector('#df-5ededc63-0e25-415c-9e9d-1267dd6ab3c6 button.colab-df-convert');\n",
              "        buttonEl.style.display =\n",
              "          google.colab.kernel.accessAllowed ? 'block' : 'none';\n",
              "\n",
              "        async function convertToInteractive(key) {\n",
              "          const element = document.querySelector('#df-5ededc63-0e25-415c-9e9d-1267dd6ab3c6');\n",
              "          const dataTable =\n",
              "            await google.colab.kernel.invokeFunction('convertToInteractive',\n",
              "                                                     [key], {});\n",
              "          if (!dataTable) return;\n",
              "\n",
              "          const docLinkHtml = 'Like what you see? Visit the ' +\n",
              "            '<a target=\"_blank\" href=https://colab.research.google.com/notebooks/data_table.ipynb>data table notebook</a>'\n",
              "            + ' to learn more about interactive tables.';\n",
              "          element.innerHTML = '';\n",
              "          dataTable['output_type'] = 'display_data';\n",
              "          await google.colab.output.renderOutput(dataTable, element);\n",
              "          const docLink = document.createElement('div');\n",
              "          docLink.innerHTML = docLinkHtml;\n",
              "          element.appendChild(docLink);\n",
              "        }\n",
              "      </script>\n",
              "    </div>\n",
              "  </div>\n",
              "  "
            ]
          },
          "metadata": {},
          "execution_count": 39
        }
      ]
    },
    {
      "cell_type": "code",
      "source": [
        "# Detecting Outliers with Seaborn Box Plot to withdrawal values\n",
        "from matplotlib import pyplot as plt\n",
        "import seaborn as sns\n",
        "sns.boxplot(x=df_bank[' WITHDRAWAL AMT '], color='lime')\n",
        "plt.xlabel('Withdrawal values', fontsize=14)\n",
        "plt.show()"
      ],
      "metadata": {
        "colab": {
          "base_uri": "https://localhost:8080/",
          "height": 283
        },
        "id": "U2uE-_S_6yfb",
        "outputId": "6a52974a-dcd7-4362-91f0-6d49c39b669a"
      },
      "execution_count": null,
      "outputs": [
        {
          "output_type": "display_data",
          "data": {
            "text/plain": [
              "<Figure size 432x288 with 1 Axes>"
            ],
            "image/png": "[encoded data removed]"
          },
          "metadata": {
            "needs_background": "light"
          }
        }
      ]
    },
    {
      "cell_type": "code",
      "source": [
        "# Detecting Outliers with Seaborn Box Plot to withdrawal values\n",
        "\n",
        "sns.boxplot(x=df_bank[' DEPOSIT AMT '], color='lime')\n",
        "plt.xlabel('Deposit values', fontsize=14)\n",
        "plt.show()"
      ],
      "metadata": {
        "colab": {
          "base_uri": "https://localhost:8080/",
          "height": 283
        },
        "id": "4aGpNDCr9SN2",
        "outputId": "0d662fb4-4deb-40b9-f101-93996bc0a21d"
      },
      "execution_count": null,
      "outputs": [
        {
          "output_type": "display_data",
          "data": {
            "text/plain": [
              "<Figure size 432x288 with 1 Axes>"
            ],
            "image/png": "[encoded data removed]"
          },
          "metadata": {
            "needs_background": "light"
          }
        }
      ]
    },
    {
      "cell_type": "code",
      "source": [
        "# Detecting Outliers with Z-Score\n",
        "from scipy import stats\n",
        "\n",
        "#Creating a new data-frame excluding all the ‘object’ types column\n",
        "df_bank_num = df_bank.select_dtypes(exclude=['object'])\n",
        "\n",
        "#Selecting elements from each column that lie within 3 units of Z score\n",
        "df_bank_zscore = df_bank_num[(np.abs(stats.zscore(df_bank_num))<3).all(axis=1)]\n",
        "\n",
        "df_bank_zscore_withdrawal = df_bank_num[(np.abs(stats.zscore(df_bank_num[[' WITHDRAWAL AMT ']]))<=3).all(axis=1)]\n",
        "type(df_bank_zscore_withdrawal)\n",
        "\n",
        "# https://towardsdatascience.com/simplify-your-dataset-cleaning-with-pandas-75951b23568e\n",
        "# https://www.analyticsvidhya.com/blog/2020/01/build-your-first-machine-learning-pipeline-using-scikit-learn/\n",
        "# https://github.com/GDhasade/Medium.com_Contents/blob/master/Handle_Categorical_Missing_Data.ipynb\n"
      ],
      "metadata": {
        "colab": {
          "base_uri": "https://localhost:8080/"
        },
        "id": "NkuiGjI1AFfn",
        "outputId": "f0b7c3b7-572b-43d6-cab3-3b1592dbfe0d"
      },
      "execution_count": null,
      "outputs": [
        {
          "output_type": "execute_result",
          "data": {
            "text/plain": [
              "pandas.core.frame.DataFrame"
            ]
          },
          "metadata": {},
          "execution_count": 43
        }
      ]
    },
    {
      "cell_type": "markdown",
      "source": [
        "#### Data labeling"
      ],
      "metadata": {
        "id": "bFvPFJUWdl2h"
      }
    },
    {
      "cell_type": "markdown",
      "source": [
        "### **Task 3 - Statistical Analysis**"
      ],
      "metadata": {
        "id": "HRr89q4eWX5K"
      }
    },
    {
      "cell_type": "code",
      "source": [
        ""
      ],
      "metadata": {
        "id": "tPq7-p4uWnWl"
      },
      "execution_count": null,
      "outputs": []
    },
    {
      "cell_type": "markdown",
      "source": [
        "### **Task 4 - Data Visualization**"
      ],
      "metadata": {
        "id": "Qn9UUoE5WoYj"
      }
    },
    {
      "cell_type": "code",
      "source": [
        ""
      ],
      "metadata": {
        "id": "XELb9kVRWwBC"
      },
      "execution_count": null,
      "outputs": []
    }
  ]
}